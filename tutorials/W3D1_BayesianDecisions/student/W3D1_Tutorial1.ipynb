{
  "cells": [
    {
      "cell_type": "markdown",
      "metadata": {
        "id": "view-in-github",
        "colab_type": "text"
      },
      "source": [
        "<a href=\"https://colab.research.google.com/github/OdinViolet/Neuromatch/blob/main/tutorials/W3D1_BayesianDecisions/student/W3D1_Tutorial1.ipynb\" target=\"_parent\"><img src=\"https://colab.research.google.com/assets/colab-badge.svg\" alt=\"Open In Colab\"/></a>"
      ]
    },
    {
      "cell_type": "markdown",
      "metadata": {
        "execution": {},
        "id": "hrmu6I9ncYyg"
      },
      "source": [
        "# Tutorial 1: Bayes with a binary hidden state\n",
        "\n",
        "**Week 3, Day 1: Bayesian Decisions**\n",
        "\n",
        "**By Neuromatch Academy**\n",
        "\n",
        "**Content creators:** Eric DeWitt, Xaq Pitkow, Ella Batty, Saeed Salehi\n",
        "\n",
        "**Content reviewers:** Hyosub Kim, Zahra Arjmandi, Anoop Kulkarni\n",
        "\n",
        "**Production editors:** Ella Batty, Gagana B, Spiros Chavlis"
      ]
    },
    {
      "cell_type": "markdown",
      "metadata": {
        "execution": {},
        "id": "1jmTOwA0cYyi"
      },
      "source": [
        "# Tutorial Objectives\n",
        "\n",
        "*Estimated timing of tutorial: 1 hour, 30 minutes*\n",
        "\n",
        "This is the first of two core tutorials on Bayesian statistics. In these tutorials, we will explore the fundamental concepts of the Bayesian approach. In this tutorial you will work through an example of Bayesian inference and decision making using a binary hidden state. The second tutorial extends these concepts to a continuous hidden state. In the related NMA days, each of these basic ideas will be extended. In Hidden Dynamics, we consider these ideas through time as you explore what happens when we infer a hidden state using repeated observations and when the hidden state changes across time. On the Optimal Control day, we will introduce the notion of how to use inference and decisions to select actions for optimal control.\n",
        "\n",
        "This notebook will introduce the fundamental building blocks for Bayesian statistics:\n",
        "\n",
        "1. How do we combine the possible loss (or gain) for making a decision with our probabilistic knowledge?\n",
        "2. How do we use probability distributions to represent hidden states?\n",
        "3. How does marginalization work and how can we use it?\n",
        "4. How do we combine new information with our prior knowledge?"
      ]
    },
    {
      "cell_type": "code",
      "execution_count": null,
      "metadata": {
        "cellView": "form",
        "execution": {},
        "id": "QxUTgnoocYyi"
      },
      "outputs": [],
      "source": [
        "# @title Tutorial slides\n",
        "# @markdown These are the slides for the videos in this tutorial\n",
        "from IPython.display import IFrame\n",
        "link_id = \"dx7jt\"\n",
        "print(f\"If you want to download the slides: https://osf.io/download/{link_id}/\")\n",
        "IFrame(src=f\"https://mfr.ca-1.osf.io/render?url=https://osf.io/{link_id}/?direct%26mode=render%26action=download%26mode=render\", width=854, height=480)"
      ]
    },
    {
      "cell_type": "markdown",
      "metadata": {
        "execution": {},
        "id": "7fjR2ORwcYyj"
      },
      "source": [
        "---\n",
        "# Setup\n"
      ]
    },
    {
      "cell_type": "code",
      "execution_count": null,
      "metadata": {
        "cellView": "form",
        "execution": {},
        "id": "BCmQ_NeqcYyj"
      },
      "outputs": [],
      "source": [
        "# @title Install and import feedback gadget\n",
        "\n",
        "!pip3 install vibecheck datatops --quiet\n",
        "\n",
        "from vibecheck import DatatopsContentReviewContainer\n",
        "def content_review(notebook_section: str):\n",
        "    return DatatopsContentReviewContainer(\n",
        "        \"\",  # No text prompt\n",
        "        notebook_section,\n",
        "        {\n",
        "            \"url\": \"https://pmyvdlilci.execute-api.us-east-1.amazonaws.com/klab\",\n",
        "            \"name\": \"neuromatch_cn\",\n",
        "            \"user_key\": \"y1x3mpx5\",\n",
        "        },\n",
        "    ).render()\n",
        "\n",
        "\n",
        "feedback_prefix = \"W3D1_T1\""
      ]
    },
    {
      "cell_type": "code",
      "execution_count": 5,
      "metadata": {
        "execution": {},
        "id": "yUm8ecmBcYyj"
      },
      "outputs": [],
      "source": [
        "# Imports\n",
        "import numpy as np\n",
        "import matplotlib.pyplot as plt\n",
        "from matplotlib import patches, transforms, gridspec\n",
        "from scipy.optimize import fsolve\n",
        "from collections import namedtuple"
      ]
    },
    {
      "cell_type": "code",
      "execution_count": 2,
      "metadata": {
        "cellView": "form",
        "execution": {},
        "id": "AGBd-H50cYyj"
      },
      "outputs": [],
      "source": [
        "# @title Figure Settings\n",
        "import logging\n",
        "logging.getLogger('matplotlib.font_manager').disabled = True\n",
        "\n",
        "import ipywidgets as widgets  # interactive display\n",
        "from ipywidgets import GridspecLayout, HBox, VBox, FloatSlider, Layout, ToggleButtons\n",
        "from ipywidgets import interactive, interactive_output, Checkbox, Select\n",
        "from IPython.display import clear_output\n",
        "%config InlineBackend.figure_format = 'retina'\n",
        "plt.style.use(\"https://raw.githubusercontent.com/NeuromatchAcademy/course-content/main/nma.mplstyle\")\n",
        "\n",
        "import warnings\n",
        "warnings.filterwarnings(\"ignore\")"
      ]
    },
    {
      "cell_type": "code",
      "execution_count": 3,
      "metadata": {
        "cellView": "form",
        "execution": {},
        "id": "tfeZfq9RcYyj"
      },
      "outputs": [],
      "source": [
        "# @title Plotting Functions\n",
        "from matplotlib import colors\n",
        "\n",
        "def plot_joint_probs(P, ):\n",
        "  assert np.all(P >= 0), \"probabilities should be >= 0\"\n",
        "  # normalize if not\n",
        "  P = P / np.sum(P)\n",
        "  marginal_y = np.sum(P,axis=1)\n",
        "  marginal_x = np.sum(P,axis=0)\n",
        "\n",
        "  # definitions for the axes\n",
        "  left, width = 0.1, 0.65\n",
        "  bottom, height = 0.1, 0.65\n",
        "  spacing = 0.005\n",
        "\n",
        "  # start with a square Figure\n",
        "  fig = plt.figure(figsize=(5, 5))\n",
        "\n",
        "  joint_prob = [left, bottom, width, height]\n",
        "  rect_histx = [left, bottom + height + spacing, width, 0.2]\n",
        "  rect_histy = [left + width + spacing, bottom, 0.2, height]\n",
        "\n",
        "  rect_x_cmap = plt.cm.Blues\n",
        "  rect_y_cmap = plt.cm.Reds\n",
        "\n",
        "  # Show joint probs and marginals\n",
        "  ax = fig.add_axes(joint_prob)\n",
        "  ax_x = fig.add_axes(rect_histx, sharex=ax)\n",
        "  ax_y = fig.add_axes(rect_histy, sharey=ax)\n",
        "\n",
        "  # Show joint probs and marginals\n",
        "  ax.matshow(P,vmin=0., vmax=1., cmap='Greys')\n",
        "  ax_x.bar(0, marginal_x[0], facecolor=rect_x_cmap(marginal_x[0]))\n",
        "  ax_x.bar(1, marginal_x[1], facecolor=rect_x_cmap(marginal_x[1]))\n",
        "  ax_y.barh(0, marginal_y[0], facecolor=rect_y_cmap(marginal_y[0]))\n",
        "  ax_y.barh(1, marginal_y[1], facecolor=rect_y_cmap(marginal_y[1]))\n",
        "  # set limits\n",
        "  ax_x.set_ylim([0, 1])\n",
        "  ax_y.set_xlim([0, 1])\n",
        "\n",
        "  # show values\n",
        "  ind = np.arange(2)\n",
        "  x,y = np.meshgrid(ind,ind)\n",
        "  for i,j in zip(x.flatten(), y.flatten()):\n",
        "    c = f\"{P[i, j]:.2f}\"\n",
        "    ax.text(j,i, c, va='center', ha='center', color='black')\n",
        "  for i in ind:\n",
        "    v = marginal_x[i]\n",
        "    c = f\"{v:.2f}\"\n",
        "    ax_x.text(i, v +0.1, c, va='center', ha='center', color='black')\n",
        "    v = marginal_y[i]\n",
        "    c = f\"{v:.2f}\"\n",
        "    ax_y.text(v+0.2, i, c, va='center', ha='center', color='black')\n",
        "\n",
        "  # set up labels\n",
        "  ax.xaxis.tick_bottom()\n",
        "  ax.yaxis.tick_left()\n",
        "  ax.set_xticks([0,1])\n",
        "  ax.set_yticks([0,1])\n",
        "  ax.set_xticklabels(['Silver', 'Gold'])\n",
        "  ax.set_yticklabels(['Small', 'Large'])\n",
        "  ax.set_xlabel('color')\n",
        "  ax.set_ylabel('size')\n",
        "  ax_x.axis('off')\n",
        "  ax_y.axis('off')\n",
        "  return fig\n",
        "\n",
        "\n",
        "def plot_prior_likelihood_posterior(prior, likelihood, posterior):\n",
        "  # definitions for the axes\n",
        "  left, width = 0.05, 0.3\n",
        "  bottom, height = 0.05, 0.9\n",
        "  padding = 0.12\n",
        "  small_width = 0.1\n",
        "  left_space = left + small_width + padding\n",
        "  added_space = padding + width\n",
        "\n",
        "  fig = plt.figure(figsize=(12, 4))\n",
        "\n",
        "  rect_prior = [left, bottom, small_width, height]\n",
        "  rect_likelihood = [left_space , bottom , width, height]\n",
        "  rect_posterior = [left_space +  added_space, bottom , width, height]\n",
        "\n",
        "  ax_prior = fig.add_axes(rect_prior)\n",
        "  ax_likelihood = fig.add_axes(rect_likelihood, sharey=ax_prior)\n",
        "  ax_posterior = fig.add_axes(rect_posterior, sharey = ax_prior)\n",
        "\n",
        "  rect_colormap = plt.cm.Blues\n",
        "\n",
        "  # Show posterior probs and marginals\n",
        "  ax_prior.barh(0, prior[0], facecolor=rect_colormap(prior[0, 0]))\n",
        "  ax_prior.barh(1, prior[1], facecolor=rect_colormap(prior[1, 0]))\n",
        "  ax_likelihood.matshow(likelihood, vmin=0., vmax=1., cmap='Reds')\n",
        "  ax_posterior.matshow(posterior, vmin=0., vmax=1., cmap='Greens')\n",
        "\n",
        "  # Probabilities plot details\n",
        "  ax_prior.set(xlim=[1, 0], xticks=[], yticks=[0, 1],\n",
        "                yticklabels=['left', 'right'], title=\"Prior p(s)\")\n",
        "  ax_prior.yaxis.tick_right()\n",
        "  ax_prior.spines['left'].set_visible(False)\n",
        "  ax_prior.spines['bottom'].set_visible(False)\n",
        "\n",
        "  # Likelihood plot details\n",
        "  ax_likelihood.set(xticks=[0, 1], xticklabels=['fish', 'no fish'],\n",
        "                    yticks=[0, 1], yticklabels=['left', 'right'],\n",
        "                    ylabel='state (s)', xlabel='measurement (m)',\n",
        "                    title='Likelihood p(m (left) | s)')\n",
        "  ax_likelihood.xaxis.set_ticks_position('bottom')\n",
        "  ax_likelihood.spines['left'].set_visible(False)\n",
        "  ax_likelihood.spines['bottom'].set_visible(False)\n",
        "\n",
        "  # Posterior plot details\n",
        "  ax_posterior.set(xticks=[0, 1], xticklabels=['fish', 'no fish'],\n",
        "                    yticks=[0, 1], yticklabels=['left', 'right'],\n",
        "                    ylabel='state (s)', xlabel='measurement (m)',\n",
        "                    title='Posterior p(s | m)')\n",
        "  ax_posterior.xaxis.set_ticks_position('bottom')\n",
        "  ax_posterior.spines['left'].set_visible(False)\n",
        "  ax_posterior.spines['bottom'].set_visible(False)\n",
        "\n",
        "  # show values\n",
        "  ind = np.arange(2)\n",
        "  x,y = np.meshgrid(ind,ind)\n",
        "  for i,j in zip(x.flatten(), y.flatten()):\n",
        "    c = f\"{posterior[i, j]:.2f}\"\n",
        "    ax_posterior.text(j, i, c, va='center', ha='center', color='black')\n",
        "  for i,j in zip(x.flatten(), y.flatten()):\n",
        "    c = f\"{likelihood[i, j]:.2f}\"\n",
        "    ax_likelihood.text(j, i, c, va='center', ha='center', color='black')\n",
        "  for i in ind:\n",
        "    v = prior[i, 0]\n",
        "    c = f\"{v:.2f}\"\n",
        "    ax_prior.text(v+0.2, i, c, va='center', ha='center', color='black')\n",
        "\n",
        "\n",
        "def plot_prior_likelihood(ps, p_a_s1, p_a_s0, measurement):\n",
        "  likelihood = np.asarray([[p_a_s1, 1-p_a_s1], [p_a_s0, 1-p_a_s0]])\n",
        "  assert 0.0 <= ps <= 1.0\n",
        "  prior = np.asarray([ps, 1 - ps])\n",
        "  if measurement == \"Fish\":\n",
        "    posterior = likelihood[:, 0] * prior\n",
        "  else:\n",
        "    posterior = (likelihood[:, 1] * prior).reshape(-1)\n",
        "  posterior /= np.sum(posterior)\n",
        "\n",
        "  # definitions for the axes\n",
        "  left, width = 0.05, 0.3\n",
        "  bottom, height = 0.05, 0.9\n",
        "  padding = 0.12\n",
        "  small_width = 0.2\n",
        "  left_space = left + small_width + padding\n",
        "  small_padding = 0.05\n",
        "\n",
        "  fig = plt.figure(figsize=(12, 4))\n",
        "\n",
        "  rect_prior = [left, bottom, small_width, height]\n",
        "  rect_likelihood = [left_space , bottom , width, height]\n",
        "  rect_posterior = [left_space + width + small_padding, bottom , small_width, height]\n",
        "\n",
        "  ax_prior = fig.add_axes(rect_prior)\n",
        "  ax_likelihood = fig.add_axes(rect_likelihood, sharey=ax_prior)\n",
        "  ax_posterior = fig.add_axes(rect_posterior, sharey=ax_prior)\n",
        "\n",
        "  prior_colormap = plt.cm.Blues\n",
        "  posterior_colormap = plt.cm.Greens\n",
        "\n",
        "  # Show posterior probs and marginals\n",
        "  ax_prior.barh(0, prior[0], facecolor=prior_colormap(prior[0]))\n",
        "  ax_prior.barh(1, prior[1], facecolor=prior_colormap(prior[1]))\n",
        "  ax_likelihood.matshow(likelihood, vmin=0., vmax=1., cmap='Reds')\n",
        "  ax_posterior.barh(0, posterior[0], facecolor=posterior_colormap(posterior[0]))\n",
        "  ax_posterior.barh(1, posterior[1], facecolor=posterior_colormap(posterior[1]))\n",
        "\n",
        "  # Probabilities plot details\n",
        "  ax_prior.set(xlim=[1, 0], yticks=[0, 1], yticklabels=['left', 'right'],\n",
        "                title=\"Prior p(s)\", xticks=[])\n",
        "  ax_prior.yaxis.tick_right()\n",
        "  ax_prior.spines['left'].set_visible(False)\n",
        "  ax_prior.spines['bottom'].set_visible(False)\n",
        "\n",
        "  # Likelihood plot details\n",
        "  ax_likelihood.set(xticks=[0, 1], xticklabels=['fish', 'no fish'],\n",
        "                    yticks=[0, 1], yticklabels=['left', 'right'],\n",
        "                    ylabel='state (s)', xlabel='measurement (m)',\n",
        "                    title='Likelihood p(m | s)')\n",
        "  ax_likelihood.xaxis.set_ticks_position('bottom')\n",
        "  ax_likelihood.spines['left'].set_visible(False)\n",
        "  ax_likelihood.spines['bottom'].set_visible(False)\n",
        "\n",
        "  # Posterior plot details\n",
        "  ax_posterior.set(xlim=[0, 1], xticks=[], yticks=[0, 1],\n",
        "                    yticklabels=['left', 'right'],\n",
        "                    title=\"Posterior p(s | m)\")\n",
        "  ax_posterior.spines['left'].set_visible(False)\n",
        "  ax_posterior.spines['bottom'].set_visible(False)\n",
        "\n",
        "  # show values\n",
        "  ind = np.arange(2)\n",
        "  x,y = np.meshgrid(ind, ind)\n",
        "  for i in ind:\n",
        "    v = posterior[i]\n",
        "    c = f\"{v:.2f}\"\n",
        "    ax_posterior.text(v+0.2, i, c, va='center', ha='center', color='black')\n",
        "  for i,j in zip(x.flatten(), y.flatten()):\n",
        "    c = f\"{likelihood[i, j]:.2f}\"\n",
        "    ax_likelihood.text(j, i, c, va='center', ha='center', color='black')\n",
        "  for i in ind:\n",
        "    v = prior[i]\n",
        "    c = f\"{v:.2f}\"\n",
        "    ax_prior.text(v+0.2, i, c, va='center', ha='center', color='black')\n",
        "  plt.show()\n",
        "  return fig\n",
        "\n",
        "\n",
        "def plot_utility(ps):\n",
        "  prior = np.asarray([ps, 1 - ps])\n",
        "\n",
        "  utility = np.array([[2, -3], [-2, 1]])\n",
        "\n",
        "  expected = prior @ utility\n",
        "\n",
        "  # definitions for the axes\n",
        "  left, width = 0.05, 0.16\n",
        "  bottom, height = 0.05, 0.9\n",
        "  padding = 0.02\n",
        "  small_width = 0.1\n",
        "  left_space = left + small_width + padding\n",
        "  added_space = padding + width\n",
        "\n",
        "  fig = plt.figure(figsize=(17, 3))\n",
        "\n",
        "  rect_prior = [left, bottom, small_width, height]\n",
        "  rect_utility = [left + added_space , bottom , width, height]\n",
        "  rect_expected = [left + 2* added_space, bottom , width, height]\n",
        "\n",
        "  ax_prior = fig.add_axes(rect_prior)\n",
        "  ax_utility = fig.add_axes(rect_utility, sharey=ax_prior)\n",
        "  ax_expected = fig.add_axes(rect_expected)\n",
        "\n",
        "  rect_colormap = plt.cm.Blues\n",
        "\n",
        "  # Data of plots\n",
        "  ax_prior.barh(0, prior[0], facecolor=rect_colormap(prior[0]))\n",
        "  ax_prior.barh(1, prior[1], facecolor=rect_colormap(prior[1]))\n",
        "  ax_utility.matshow(utility, cmap='cool')\n",
        "  norm = colors.Normalize(vmin=-3, vmax=3)\n",
        "  ax_expected.bar(0, expected[0], facecolor=rect_colormap(norm(expected[0])))\n",
        "  ax_expected.bar(1, expected[1], facecolor=rect_colormap(norm(expected[1])))\n",
        "\n",
        "  # Probabilities plot details\n",
        "  ax_prior.set(xlim=[1, 0], xticks=[], yticks=[0, 1],\n",
        "                yticklabels=['left', 'right'], title=\"Probability of state\")\n",
        "  ax_prior.yaxis.tick_right()\n",
        "  ax_prior.spines['left'].set_visible(False)\n",
        "  ax_prior.spines['bottom'].set_visible(False)\n",
        "\n",
        "  # Utility plot details\n",
        "  ax_utility.set(xticks=[0, 1], xticklabels=['left', 'right'],\n",
        "                  yticks=[0, 1], yticklabels=['left', 'right'],\n",
        "                  ylabel='state (s)', xlabel='action (a)',\n",
        "                  title='Utility')\n",
        "  ax_utility.xaxis.set_ticks_position('bottom')\n",
        "  ax_utility.spines['left'].set_visible(False)\n",
        "  ax_utility.spines['bottom'].set_visible(False)\n",
        "\n",
        "  # Expected utility plot details\n",
        "  ax_expected.set(title='Expected utility', ylim=[-3, 3],\n",
        "                  xticks=[0, 1], xticklabels=['left', 'right'],\n",
        "                  xlabel='action (a)', yticks=[])\n",
        "  ax_expected.xaxis.set_ticks_position('bottom')\n",
        "  ax_expected.spines['left'].set_visible(False)\n",
        "  ax_expected.spines['bottom'].set_visible(False)\n",
        "\n",
        "  # show values\n",
        "  ind = np.arange(2)\n",
        "  x,y = np.meshgrid(ind,ind)\n",
        "\n",
        "  for i,j in zip(x.flatten(), y.flatten()):\n",
        "    c = f\"{utility[i, j]:.2f}\"\n",
        "    ax_utility.text(j, i, c, va='center', ha='center', color='black')\n",
        "  for i in ind:\n",
        "    v = prior[i]\n",
        "    c = f\"{v:.2f}\"\n",
        "    ax_prior.text(v+0.2, i, c, va='center', ha='center', color='black')\n",
        "  for i in ind:\n",
        "    v = expected[i]\n",
        "    c = f\"{v:.2f}\"\n",
        "    ax_expected.text(i, 2.5, c, va='center', ha='center', color='black')\n",
        "\n",
        "  return fig\n",
        "\n",
        "\n",
        "def plot_prior_likelihood_utility(ps, p_a_s1, p_a_s0, measurement):\n",
        "  assert 0.0 <= ps <= 1.0\n",
        "  assert 0.0 <= p_a_s1 <= 1.0\n",
        "  assert 0.0 <= p_a_s0 <= 1.0\n",
        "  prior = np.asarray([ps, 1 - ps])\n",
        "  likelihood = np.asarray([[p_a_s1, 1-p_a_s1],[p_a_s0, 1-p_a_s0]])\n",
        "  utility = np.array([[2.0, -3.0], [-2.0, 1.0]])\n",
        "\n",
        "  if measurement == \"Fish\":\n",
        "    posterior = likelihood[:, 0] * prior\n",
        "  else:\n",
        "    posterior = (likelihood[:, 1] * prior).reshape(-1)\n",
        "  posterior /= np.sum(posterior)\n",
        "  expected = posterior @ utility\n",
        "\n",
        "  # definitions for the axes\n",
        "  left, width = 0.05, 0.3\n",
        "  bottom, height = 0.05, 0.3\n",
        "  padding = 0.12\n",
        "  small_width = 0.2\n",
        "  left_space = left + small_width + padding\n",
        "  small_padding = 0.05\n",
        "\n",
        "  fig = plt.figure(figsize=(10, 9))\n",
        "\n",
        "  rect_prior = [left, bottom + height + padding, small_width, height]\n",
        "  rect_likelihood = [left_space , bottom + height + padding , width, height]\n",
        "  rect_posterior = [left_space + width + small_padding,\n",
        "                    bottom + height + padding,\n",
        "                    small_width, height]\n",
        "\n",
        "  rect_utility = [padding, bottom, width, height]\n",
        "  rect_expected = [padding + width + padding + left, bottom, width, height]\n",
        "\n",
        "  ax_likelihood = fig.add_axes(rect_likelihood)\n",
        "  ax_prior = fig.add_axes(rect_prior, sharey=ax_likelihood)\n",
        "  ax_posterior = fig.add_axes(rect_posterior, sharey=ax_likelihood)\n",
        "  ax_utility = fig.add_axes(rect_utility)\n",
        "  ax_expected = fig.add_axes(rect_expected)\n",
        "\n",
        "  prior_colormap = plt.cm.Blues\n",
        "  posterior_colormap = plt.cm.Greens\n",
        "  expected_colormap = plt.cm.Wistia\n",
        "\n",
        "  # Show posterior probs and marginals\n",
        "  ax_prior.barh(0, prior[0], facecolor=prior_colormap(prior[0]))\n",
        "  ax_prior.barh(1, prior[1], facecolor=prior_colormap(prior[1]))\n",
        "  ax_likelihood.matshow(likelihood, vmin=0., vmax=1., cmap='Reds')\n",
        "  ax_posterior.barh(0, posterior[0], facecolor=posterior_colormap(posterior[0]))\n",
        "  ax_posterior.barh(1, posterior[1], facecolor=posterior_colormap(posterior[1]))\n",
        "  ax_utility.matshow(utility, vmin=0., vmax=1., cmap='cool')\n",
        "  ax_expected.bar(0, expected[0], facecolor=expected_colormap(expected[0]))\n",
        "  ax_expected.bar(1, expected[1], facecolor=expected_colormap(expected[1]))\n",
        "\n",
        "  # Probabilities plot details\n",
        "  ax_prior.set(xlim=[1, 0], yticks=[0, 1], yticklabels=['left', 'right'],\n",
        "                title=\"Prior p(s)\", xticks=[])\n",
        "  ax_prior.yaxis.tick_right()\n",
        "  ax_prior.spines['left'].set_visible(False)\n",
        "  ax_prior.spines['bottom'].set_visible(False)\n",
        "\n",
        "  # Likelihood plot details\n",
        "  ax_likelihood.set(xticks=[0, 1], xticklabels=['fish', 'no fish'],\n",
        "                    yticks=[0, 1], yticklabels=['left', 'right'],\n",
        "                    ylabel='state (s)', xlabel='measurement (m)',\n",
        "                    title='Likelihood p(m | s)')\n",
        "  ax_likelihood.xaxis.set_ticks_position('bottom')\n",
        "  ax_likelihood.spines['left'].set_visible(False)\n",
        "  ax_likelihood.spines['bottom'].set_visible(False)\n",
        "\n",
        "  # Posterior plot details\n",
        "  ax_posterior.set(xlim=[0, 1], xticks=[], yticks=[0, 1],\n",
        "                    yticklabels=['left', 'right'],\n",
        "                    title=\"Posterior p(s | m)\")\n",
        "  ax_posterior.spines['left'].set_visible(False)\n",
        "  ax_posterior.spines['bottom'].set_visible(False)\n",
        "\n",
        "  # Utility plot details\n",
        "  ax_utility.set(xticks=[0, 1], xticklabels=['left', 'right'],\n",
        "                  xlabel='action (a)', yticks=[0, 1],\n",
        "                  yticklabels=['left', 'right'],\n",
        "                  title='Utility', ylabel='state (s)')\n",
        "  ax_utility.xaxis.set_ticks_position('bottom')\n",
        "  ax_utility.spines['left'].set_visible(False)\n",
        "  ax_utility.spines['bottom'].set_visible(False)\n",
        "\n",
        "  # Expected Utility plot details\n",
        "  ax_expected.set(ylim=[-2, 2], xticks=[0, 1],\n",
        "                  xticklabels=['left', 'right'],\n",
        "                  xlabel='action (a)',\n",
        "                  title='Expected utility', yticks=[])\n",
        "  ax_expected.spines['left'].set_visible(False)\n",
        "\n",
        "  # show values\n",
        "  ind = np.arange(2)\n",
        "  x,y = np.meshgrid(ind,ind)\n",
        "  for i in ind:\n",
        "    v = posterior[i]\n",
        "    c = f\"{v:.2f}\"\n",
        "    ax_posterior.text(v+0.2, i, c, va='center', ha='center', color='black')\n",
        "  for i,j in zip(x.flatten(), y.flatten()):\n",
        "    c = f\"{likelihood[i,j]:.2f}\"\n",
        "    ax_likelihood.text(j, i, c, va='center', ha='center', color='black')\n",
        "  for i,j in zip(x.flatten(), y.flatten()):\n",
        "    c = f\"{utility[i, j]:.2f}\"\n",
        "    ax_utility.text(j,i, c, va='center', ha='center', color='black')\n",
        "  for i in ind:\n",
        "    v = prior[i]\n",
        "    c = f\"{v:.2f}\"\n",
        "    ax_prior.text(v+0.2, i, c, va='center', ha='center', color='black')\n",
        "  for i in ind:\n",
        "    v = expected[i]\n",
        "    c = f\"{v:.2f}\"\n",
        "    ax_expected.text(i, v, c, va='center', ha='center', color='black')\n",
        "  plt.show()\n",
        "  return fig"
      ]
    },
    {
      "cell_type": "code",
      "execution_count": 4,
      "metadata": {
        "cellView": "form",
        "execution": {},
        "id": "IkdMiKlIcYyk"
      },
      "outputs": [],
      "source": [
        "# @title Helper Functions\n",
        "\n",
        "def compute_marginal(px, py, cor):\n",
        "  \"\"\" Calculate 2x2 joint probabilities given marginals p(x=1), p(y=1) and correlation\n",
        "\n",
        "    Args:\n",
        "      px (scalar): marginal probability of x\n",
        "      py (scalar): marginal probability of y\n",
        "      cor (scalar): correlation value\n",
        "\n",
        "    Returns:\n",
        "      ndarray of size (2, 2): joint probability array of x and y\n",
        "  \"\"\"\n",
        "\n",
        "  p11 = px*py + cor*np.sqrt(px*py*(1-px)*(1-py))\n",
        "  p01 = px - p11\n",
        "  p10 = py - p11\n",
        "  p00 = 1.0 - p11 - p01 - p10\n",
        "\n",
        "  return np.asarray([[p00, p01], [p10, p11]])\n",
        "\n",
        "\n",
        "def compute_cor_range(px,py):\n",
        "  \"\"\" Calculate the allowed range of correlation values given marginals p(x=1)\n",
        "    and p(y=1)\n",
        "\n",
        "  Args:\n",
        "    px (scalar): marginal probability of x\n",
        "    py (scalar): marginal probability of y\n",
        "\n",
        "  Returns:\n",
        "    scalar, scalar: minimum and maximum possible values of correlation\n",
        "  \"\"\"\n",
        "\n",
        "  def p11(corr):\n",
        "    return px*py + corr*np.sqrt(px*py*(1-px)*(1-py))\n",
        "  def p01(corr):\n",
        "    return px - p11(corr)\n",
        "  def p10(corr):\n",
        "    return py - p11(corr)\n",
        "  def p00(corr):\n",
        "    return 1.0 - p11(corr) - p01(corr) - p10(corr)\n",
        "  Cmax = min(fsolve(p01, 0.0), fsolve(p10, 0.0))\n",
        "  Cmin = max(fsolve(p11, 0.0), fsolve(p00, 0.0))\n",
        "  return Cmin, Cmax"
      ]
    },
    {
      "cell_type": "markdown",
      "metadata": {
        "execution": {},
        "id": "yVdd0vr8cYyk"
      },
      "source": [
        "---\n",
        "# Section 0: Introduction"
      ]
    },
    {
      "cell_type": "code",
      "execution_count": null,
      "metadata": {
        "cellView": "form",
        "execution": {},
        "id": "IdsUYHXlcYyk"
      },
      "outputs": [],
      "source": [
        "# @title Video 1: Introduction to Bayesian Statistics and Decisions\n",
        "from ipywidgets import widgets\n",
        "from IPython.display import YouTubeVideo\n",
        "from IPython.display import IFrame\n",
        "from IPython.display import display\n",
        "\n",
        "\n",
        "class PlayVideo(IFrame):\n",
        "  def __init__(self, id, source, page=1, width=400, height=300, **kwargs):\n",
        "    self.id = id\n",
        "    if source == 'Bilibili':\n",
        "      src = f'https://player.bilibili.com/player.html?bvid={id}&page={page}'\n",
        "    elif source == 'Osf':\n",
        "      src = f'https://mfr.ca-1.osf.io/render?url=https://osf.io/download/{id}/?direct%26mode=render'\n",
        "    super(PlayVideo, self).__init__(src, width, height, **kwargs)\n",
        "\n",
        "\n",
        "def display_videos(video_ids, W=400, H=300, fs=1):\n",
        "  tab_contents = []\n",
        "  for i, video_id in enumerate(video_ids):\n",
        "    out = widgets.Output()\n",
        "    with out:\n",
        "      if video_ids[i][0] == 'Youtube':\n",
        "        video = YouTubeVideo(id=video_ids[i][1], width=W,\n",
        "                             height=H, fs=fs, rel=0)\n",
        "        print(f'Video available at https://youtube.com/watch?v={video.id}')\n",
        "      else:\n",
        "        video = PlayVideo(id=video_ids[i][1], source=video_ids[i][0], width=W,\n",
        "                          height=H, fs=fs, autoplay=False)\n",
        "        if video_ids[i][0] == 'Bilibili':\n",
        "          print(f'Video available at https://www.bilibili.com/video/{video.id}')\n",
        "        elif video_ids[i][0] == 'Osf':\n",
        "          print(f'Video available at https://osf.io/{video.id}')\n",
        "      display(video)\n",
        "    tab_contents.append(out)\n",
        "  return tab_contents\n",
        "\n",
        "\n",
        "video_ids = [('Youtube', 'Hcx2_JTpf2M'), ('Bilibili', 'BV1Ch41167jN')]\n",
        "tab_contents = display_videos(video_ids, W=854, H=480)\n",
        "tabs = widgets.Tab()\n",
        "tabs.children = tab_contents\n",
        "for i in range(len(tab_contents)):\n",
        "  tabs.set_title(i, video_ids[i][0])\n",
        "display(tabs)"
      ]
    },
    {
      "cell_type": "code",
      "execution_count": null,
      "metadata": {
        "cellView": "form",
        "execution": {},
        "id": "gvkd0RykcYyk"
      },
      "outputs": [],
      "source": [
        "# @title Submit your feedback\n",
        "content_review(f\"{feedback_prefix}_Introduction_to_Bayesian_Statistics_and_Decisions_Video\")"
      ]
    },
    {
      "cell_type": "markdown",
      "metadata": {
        "execution": {},
        "id": "x4pM2AXKcYyk"
      },
      "source": [
        "---\n",
        "# Section 1: Gone Fishin'\n"
      ]
    },
    {
      "cell_type": "code",
      "execution_count": null,
      "metadata": {
        "cellView": "form",
        "execution": {},
        "id": "QyR2Bb6HcYyk"
      },
      "outputs": [],
      "source": [
        "# @title Video 2: Gone Fishin'\n",
        "from ipywidgets import widgets\n",
        "from IPython.display import YouTubeVideo\n",
        "from IPython.display import IFrame\n",
        "from IPython.display import display\n",
        "\n",
        "\n",
        "class PlayVideo(IFrame):\n",
        "  def __init__(self, id, source, page=1, width=400, height=300, **kwargs):\n",
        "    self.id = id\n",
        "    if source == 'Bilibili':\n",
        "      src = f'https://player.bilibili.com/player.html?bvid={id}&page={page}'\n",
        "    elif source == 'Osf':\n",
        "      src = f'https://mfr.ca-1.osf.io/render?url=https://osf.io/download/{id}/?direct%26mode=render'\n",
        "    super(PlayVideo, self).__init__(src, width, height, **kwargs)\n",
        "\n",
        "\n",
        "def display_videos(video_ids, W=400, H=300, fs=1):\n",
        "  tab_contents = []\n",
        "  for i, video_id in enumerate(video_ids):\n",
        "    out = widgets.Output()\n",
        "    with out:\n",
        "      if video_ids[i][0] == 'Youtube':\n",
        "        video = YouTubeVideo(id=video_ids[i][1], width=W,\n",
        "                             height=H, fs=fs, rel=0)\n",
        "        print(f'Video available at https://youtube.com/watch?v={video.id}')\n",
        "      else:\n",
        "        video = PlayVideo(id=video_ids[i][1], source=video_ids[i][0], width=W,\n",
        "                          height=H, fs=fs, autoplay=False)\n",
        "        if video_ids[i][0] == 'Bilibili':\n",
        "          print(f'Video available at https://www.bilibili.com/video/{video.id}')\n",
        "        elif video_ids[i][0] == 'Osf':\n",
        "          print(f'Video available at https://osf.io/{video.id}')\n",
        "      display(video)\n",
        "    tab_contents.append(out)\n",
        "  return tab_contents\n",
        "\n",
        "\n",
        "video_ids = [('Youtube', 'kAdBjWOI_yE'), ('Bilibili', 'BV1TP4y147pJ')]\n",
        "tab_contents = display_videos(video_ids, W=854, H=480)\n",
        "tabs = widgets.Tab()\n",
        "tabs.children = tab_contents\n",
        "for i in range(len(tab_contents)):\n",
        "  tabs.set_title(i, video_ids[i][0])\n",
        "display(tabs)"
      ]
    },
    {
      "cell_type": "code",
      "execution_count": null,
      "metadata": {
        "cellView": "form",
        "execution": {},
        "id": "W5-TNe9TcYyk"
      },
      "outputs": [],
      "source": [
        "# @title Submit your feedback\n",
        "content_review(f\"{feedback_prefix}_Gone_Fishin_Video\")"
      ]
    },
    {
      "cell_type": "markdown",
      "metadata": {
        "execution": {},
        "id": "STo_iZPLcYyk"
      },
      "source": [
        "This video covers the example problem of fishing that we will cover in this tutorial.\n",
        "\n",
        "<details>\n",
        "<summary> <font color=‘blue’>Click here for text recap of video </font></summary>\n",
        "\n",
        "You were just introduced to the **binary hidden state problem** we are going to explore. You need to decide which side to fish on--the hidden state. We know fish like to school together. On different days the school of fish is either on the left or right side, but we don’t know what the case is today. We define our knowledge about the fish location as a distribution over the random hidden state variable. Using our probabilistic knowledge, also called our **belief** about the hidden state, we will explore how to make the decision about where to fish today, based on what to expect in terms of gains or losses for the decision.\n",
        "The gains and losss are defined by the utility of choosing an action, which is fishing on the left or right. The details of the utilities are described\n",
        "</details>\n",
        "\n",
        "In the next two sections we will consider just the probability of where the fish might be and what you gain or lose by choosing where to fish (leaving Bayesian approaches to the last few sections).\n",
        "\n",
        "Remember, you can either think of yourself as a scientist conducting an experiment or as a brain trying to make a decision. The Bayesian approach is the same!\n"
      ]
    },
    {
      "cell_type": "markdown",
      "metadata": {
        "execution": {},
        "id": "vBtPiCbkcYyk"
      },
      "source": [
        "---\n",
        "# Section 2: Deciding where to fish\n",
        "\n",
        "*Estimated timing to here from start of tutorial: 10 min*"
      ]
    },
    {
      "cell_type": "code",
      "execution_count": null,
      "metadata": {
        "cellView": "form",
        "execution": {},
        "id": "uT6SbnCfcYyk"
      },
      "outputs": [],
      "source": [
        "# @title Video 3: Utility\n",
        "from ipywidgets import widgets\n",
        "from IPython.display import YouTubeVideo\n",
        "from IPython.display import IFrame\n",
        "from IPython.display import display\n",
        "\n",
        "\n",
        "class PlayVideo(IFrame):\n",
        "  def __init__(self, id, source, page=1, width=400, height=300, **kwargs):\n",
        "    self.id = id\n",
        "    if source == 'Bilibili':\n",
        "      src = f'https://player.bilibili.com/player.html?bvid={id}&page={page}'\n",
        "    elif source == 'Osf':\n",
        "      src = f'https://mfr.ca-1.osf.io/render?url=https://osf.io/download/{id}/?direct%26mode=render'\n",
        "    super(PlayVideo, self).__init__(src, width, height, **kwargs)\n",
        "\n",
        "\n",
        "def display_videos(video_ids, W=400, H=300, fs=1):\n",
        "  tab_contents = []\n",
        "  for i, video_id in enumerate(video_ids):\n",
        "    out = widgets.Output()\n",
        "    with out:\n",
        "      if video_ids[i][0] == 'Youtube':\n",
        "        video = YouTubeVideo(id=video_ids[i][1], width=W,\n",
        "                             height=H, fs=fs, rel=0)\n",
        "        print(f'Video available at https://youtube.com/watch?v={video.id}')\n",
        "      else:\n",
        "        video = PlayVideo(id=video_ids[i][1], source=video_ids[i][0], width=W,\n",
        "                          height=H, fs=fs, autoplay=False)\n",
        "        if video_ids[i][0] == 'Bilibili':\n",
        "          print(f'Video available at https://www.bilibili.com/video/{video.id}')\n",
        "        elif video_ids[i][0] == 'Osf':\n",
        "          print(f'Video available at https://osf.io/{video.id}')\n",
        "      display(video)\n",
        "    tab_contents.append(out)\n",
        "  return tab_contents\n",
        "\n",
        "\n",
        "video_ids = [('Youtube', '8-5RM0k3IKE'), ('Bilibili', 'BV1uL411H7ZE')]\n",
        "tab_contents = display_videos(video_ids, W=854, H=480)\n",
        "tabs = widgets.Tab()\n",
        "tabs.children = tab_contents\n",
        "for i in range(len(tab_contents)):\n",
        "  tabs.set_title(i, video_ids[i][0])\n",
        "display(tabs)"
      ]
    },
    {
      "cell_type": "code",
      "execution_count": null,
      "metadata": {
        "cellView": "form",
        "execution": {},
        "id": "dhKWisBucYyk"
      },
      "outputs": [],
      "source": [
        "# @title Submit your feedback\n",
        "content_review(f\"{feedback_prefix}_Utility_Video\")"
      ]
    },
    {
      "cell_type": "markdown",
      "metadata": {
        "execution": {},
        "id": "0BKUSuXpcYyl"
      },
      "source": [
        "This video covers utility and expected utility.\n",
        "\n",
        "<details>\n",
        "<summary> <font color=‘blue’>Click here for text recap of video </font></summary>\n",
        "\n",
        "You need to decide where to fish. It may seem obvious - you could just fish on the side where the probability of the fish being is higher! Unfortunately, decisions and actions are always a little more complicated. Deciding to fish may be influenced by more than just the probability of the school of fish being there as we saw by the potential issues of submarines and sunburn. The consequences of the action you take is based on the true (but hidden) state of the world and the action you choose! In our example, fishing on the wrong side, where there aren't many fish, is likely to lead to you spending your afternoon not catching fish and therefore getting a sunburn. The submarine represents a risk to fishing on the right side that is greater than the left side. If you want to know what to expect from taking the action of fishing on one side or the other, you need to calculate the expected utility.\n",
        "\n",
        "You know the (prior) probability that the school of fish is on the left side of the dock today, $P(s = \\textrm{left})$. So, you also know the probability the school is on the right, $P(s = \\textrm{right})$, because these two probabilities must add up to 1.\n",
        "\n",
        "We quantify gains and losses numerically using a **utility** function $U(s,a)$, which describes the consequences of your actions: how much value you gain (or if negative, lose) given the state of the world ($s$) and the action you take ($a$). In our example, our utility can be summarized as:\n",
        "\n",
        "| Utility: U(s,a)   | a = left   | a = right  |\n",
        "| ----------------- |------------|------------|\n",
        "| s = Left          | +2         | -3         |\n",
        "| s = right         | -2         | +1         |\n",
        "\n",
        "To use possible gains and losses to choose an action, we calculate the **expected utility** of that action by weighing these utilities with the probability of that state occurring. This allows us to choose actions by taking probabilities of events into account: we don't care if the outcome of an action-state pair is a loss if the probability of that state is very low. We can formalize this as:\n",
        "\n",
        "\\begin{equation}\n",
        "\\text{Expected utility of action a} = \\sum_{s}U(s,a)P(s)\n",
        "\\end{equation}\n",
        "\n",
        "In other words, the expected utility of an action a is the sum over possible states of the utility of that action and state times the probability of that state.\n",
        "\n",
        "</details>"
      ]
    },
    {
      "cell_type": "markdown",
      "metadata": {
        "execution": {},
        "id": "fxT10JRucYyl"
      },
      "source": [
        "## Interactive Demo 2: Exploring the decision\n",
        "\n",
        "Let's start to get a sense of how all this works using the interactive demo below. You can change the probability that the school of fish is on the left side,$p(s = \\textrm{left})$, using the slider. You will see the utility function (a matrix) in the middle and the corresponding expected utility for each action on the right.\n",
        "\n",
        "First, make sure you understand how the expected utility of each action is being computed from the probabilities and the utility values. In the initial state: the probability of the fish being on the left is 0.9 and on the right is 0.1. The expected utility of the action of fishing on the left is then $U(s = \\textrm{left},a = \\textrm{left})p(s = \\textrm{left}) + U(s = \\textrm{right},a = \\textrm{left})p(s = \\textrm{right}) = 2(0.9) + -2(0.1) = 1.6$. Essentially, to get the expected utility of action $a$, you are doing a weighted sum over the relevant column of the utility matrix (corresponding to action $a$) where the weights are the state probabilities.\n",
        "\n",
        "For each of these scenarios, think and discuss first. Then use the demo to try out each and see if your action would have been correct (that is, if the expected value of that action is the highest).\n",
        "\n",
        "\n",
        "1.  You just arrived at the dock for the first time and have no sense of where the fish might be. So you guess that the probability of the school being on the left side is 0.5 (so the probability on the right side is also 0.5). Which side would you choose to fish on given our utility values?\n",
        "2.  You think that the probability of the school being on the left side is very low (0.1) and correspondingly high on the right side (0.9). Which side would you choose to fish on given our utility values?\n",
        "3.  What would you choose if the probability of the school being on the left side is slightly lower than on the right side (0. 4 vs 0.6)?"
      ]
    },
    {
      "cell_type": "code",
      "execution_count": 6,
      "metadata": {
        "cellView": "form",
        "execution": {},
        "id": "xcjElx2bcYyl",
        "outputId": "f2b207d3-c14c-41b3-ddae-b9e969ccc264",
        "colab": {
          "base_uri": "https://localhost:8080/",
          "height": 421,
          "referenced_widgets": [
            "dc4bec5924ba4d7aaf309437eb9816a0",
            "ca614d6a2e55462486667d7adda01772",
            "7f2d23f0ab7e4a0bb582d0039d81d120",
            "39f3711d3616493c9154d5c7ea353939",
            "2f15273ef95448dcab01ab54799b24d8",
            "158a1c5dbf2a46b0a9e66c81e97449fc",
            "181f7960ed964c38a3565c885e0fc44f"
          ]
        }
      },
      "outputs": [
        {
          "output_type": "display_data",
          "data": {
            "text/plain": [
              "interactive(children=(FloatSlider(value=0.9, description='p(s = left)', max=1.0, step=0.01), Output()), _dom_c…"
            ],
            "application/vnd.jupyter.widget-view+json": {
              "version_major": 2,
              "version_minor": 0,
              "model_id": "dc4bec5924ba4d7aaf309437eb9816a0"
            }
          },
          "metadata": {}
        }
      ],
      "source": [
        "# @markdown Execute this cell to use the widget\n",
        "ps_widget = widgets.FloatSlider(0.9, description='p(s = left)',\n",
        "                                min=0.0, max=1.0, step=0.01)\n",
        "\n",
        "@widgets.interact(\n",
        "    ps = ps_widget,\n",
        ")\n",
        "def make_utility_plot(ps):\n",
        "  fig = plot_utility(ps)\n",
        "  plt.show(fig)\n",
        "  plt.close(fig)"
      ]
    },
    {
      "cell_type": "markdown",
      "metadata": {
        "execution": {},
        "id": "rWLR2Z3xcYyl"
      },
      "source": [
        "[*Click for solution*](https://github.com/NeuromatchAcademy/course-content/tree/main/tutorials/W3D1_BayesianDecisions/solutions/W3D1_Tutorial1_Solution_01d5c2c5.py)\n",
        "\n"
      ]
    },
    {
      "cell_type": "code",
      "execution_count": null,
      "metadata": {
        "cellView": "form",
        "execution": {},
        "id": "iLh7kK_ocYyl"
      },
      "outputs": [],
      "source": [
        "# @title Submit your feedback\n",
        "content_review(f\"{feedback_prefix}_Exploring_the_decision_Interactive_Demo_and_Discussion\")"
      ]
    },
    {
      "cell_type": "code",
      "execution_count": null,
      "metadata": {
        "cellView": "form",
        "execution": {},
        "id": "u1NqRGB8cYyl"
      },
      "outputs": [],
      "source": [
        "# @title Video 4: Utility Demo Discussion\n",
        "from ipywidgets import widgets\n",
        "from IPython.display import YouTubeVideo\n",
        "from IPython.display import IFrame\n",
        "from IPython.display import display\n",
        "\n",
        "\n",
        "class PlayVideo(IFrame):\n",
        "  def __init__(self, id, source, page=1, width=400, height=300, **kwargs):\n",
        "    self.id = id\n",
        "    if source == 'Bilibili':\n",
        "      src = f'https://player.bilibili.com/player.html?bvid={id}&page={page}'\n",
        "    elif source == 'Osf':\n",
        "      src = f'https://mfr.ca-1.osf.io/render?url=https://osf.io/download/{id}/?direct%26mode=render'\n",
        "    super(PlayVideo, self).__init__(src, width, height, **kwargs)\n",
        "\n",
        "\n",
        "def display_videos(video_ids, W=400, H=300, fs=1):\n",
        "  tab_contents = []\n",
        "  for i, video_id in enumerate(video_ids):\n",
        "    out = widgets.Output()\n",
        "    with out:\n",
        "      if video_ids[i][0] == 'Youtube':\n",
        "        video = YouTubeVideo(id=video_ids[i][1], width=W,\n",
        "                             height=H, fs=fs, rel=0)\n",
        "        print(f'Video available at https://youtube.com/watch?v={video.id}')\n",
        "      else:\n",
        "        video = PlayVideo(id=video_ids[i][1], source=video_ids[i][0], width=W,\n",
        "                          height=H, fs=fs, autoplay=False)\n",
        "        if video_ids[i][0] == 'Bilibili':\n",
        "          print(f'Video available at https://www.bilibili.com/video/{video.id}')\n",
        "        elif video_ids[i][0] == 'Osf':\n",
        "          print(f'Video available at https://osf.io/{video.id}')\n",
        "      display(video)\n",
        "    tab_contents.append(out)\n",
        "  return tab_contents\n",
        "\n",
        "\n",
        "video_ids = [('Youtube', 'GHQbmsEyQjE'), ('Bilibili', 'BV1po4y1D7Fu')]\n",
        "tab_contents = display_videos(video_ids, W=854, H=480)\n",
        "tabs = widgets.Tab()\n",
        "tabs.children = tab_contents\n",
        "for i in range(len(tab_contents)):\n",
        "  tabs.set_title(i, video_ids[i][0])\n",
        "display(tabs)"
      ]
    },
    {
      "cell_type": "code",
      "execution_count": null,
      "metadata": {
        "cellView": "form",
        "execution": {},
        "id": "nbKQ5cPmcYyl"
      },
      "outputs": [],
      "source": [
        "# @title Submit your feedback\n",
        "content_review(f\"{feedback_prefix}_Utility_demo_discussion_Video\")"
      ]
    },
    {
      "cell_type": "markdown",
      "metadata": {
        "execution": {},
        "id": "zh6F1ScbcYyl"
      },
      "source": [
        "In this section, you have seen that both the utility of various state and action pairs and our knowledge of the probability of each state affects your decision. Importantly, we want our knowledge of the probability of each state to be as accurate as possible!\n",
        "\n",
        "So how do we know these probabilities? We may have prior knowledge from years of fishing at the same dock, learning that the fish are more likely to be on the left side, for example. Of course, we need to update our knowledge (our belief)! To do this, we need to collect more information, or take some measurements! In the next few sections, we will focus on how we improve our knowledge of the probabilities."
      ]
    },
    {
      "cell_type": "markdown",
      "metadata": {
        "execution": {},
        "id": "Gr82ILk7cYyl"
      },
      "source": [
        "---\n",
        "# Section 3: Likelihood of the fish being on either side\n",
        "\n",
        "*Estimated timing to here from start of tutorial: 25 min*\n",
        "\n"
      ]
    },
    {
      "cell_type": "code",
      "execution_count": null,
      "metadata": {
        "cellView": "form",
        "execution": {},
        "id": "-Zuk3Q3vcYyl"
      },
      "outputs": [],
      "source": [
        "# @title Video 5: Likelihood\n",
        "from ipywidgets import widgets\n",
        "from IPython.display import YouTubeVideo\n",
        "from IPython.display import IFrame\n",
        "from IPython.display import display\n",
        "\n",
        "\n",
        "class PlayVideo(IFrame):\n",
        "  def __init__(self, id, source, page=1, width=400, height=300, **kwargs):\n",
        "    self.id = id\n",
        "    if source == 'Bilibili':\n",
        "      src = f'https://player.bilibili.com/player.html?bvid={id}&page={page}'\n",
        "    elif source == 'Osf':\n",
        "      src = f'https://mfr.ca-1.osf.io/render?url=https://osf.io/download/{id}/?direct%26mode=render'\n",
        "    super(PlayVideo, self).__init__(src, width, height, **kwargs)\n",
        "\n",
        "\n",
        "def display_videos(video_ids, W=400, H=300, fs=1):\n",
        "  tab_contents = []\n",
        "  for i, video_id in enumerate(video_ids):\n",
        "    out = widgets.Output()\n",
        "    with out:\n",
        "      if video_ids[i][0] == 'Youtube':\n",
        "        video = YouTubeVideo(id=video_ids[i][1], width=W,\n",
        "                             height=H, fs=fs, rel=0)\n",
        "        print(f'Video available at https://youtube.com/watch?v={video.id}')\n",
        "      else:\n",
        "        video = PlayVideo(id=video_ids[i][1], source=video_ids[i][0], width=W,\n",
        "                          height=H, fs=fs, autoplay=False)\n",
        "        if video_ids[i][0] == 'Bilibili':\n",
        "          print(f'Video available at https://www.bilibili.com/video/{video.id}')\n",
        "        elif video_ids[i][0] == 'Osf':\n",
        "          print(f'Video available at https://osf.io/{video.id}')\n",
        "      display(video)\n",
        "    tab_contents.append(out)\n",
        "  return tab_contents\n",
        "\n",
        "\n",
        "video_ids = [('Youtube', 'Yv8MDjdm1l4'), ('Bilibili', 'BV1EK4y1u7AV')]\n",
        "tab_contents = display_videos(video_ids, W=854, H=480)\n",
        "tabs = widgets.Tab()\n",
        "tabs.children = tab_contents\n",
        "for i in range(len(tab_contents)):\n",
        "  tabs.set_title(i, video_ids[i][0])\n",
        "display(tabs)"
      ]
    },
    {
      "cell_type": "markdown",
      "metadata": {
        "execution": {},
        "id": "APR51m1fcYyl"
      },
      "source": [
        "\n",
        "<details>\n",
        "<summary> <font color=‘blue’>Click here for text recap of video </font></summary>\n",
        "\n",
        "First, we'll think about what it means to take a measurement (also often called an observation or just data) and what it tells you about what the hidden state may be. Specifically, we'll be looking at the **likelihood**, which is the probability of your measurement ($m$) given the hidden state ($s$): $P(m | s)$. Remember that in this case, the hidden state is which side of the dock the school of fish is on.\n",
        "We will watch someone fish (for let's say 10 minutes) and our measurement is whether they catch a fish or not. We know something about what catching a fish means for the likelihood of the fish being on one side or the other.\n",
        "</details>"
      ]
    },
    {
      "cell_type": "code",
      "execution_count": null,
      "metadata": {
        "cellView": "form",
        "execution": {},
        "id": "p2mlOKHCcYyl"
      },
      "outputs": [],
      "source": [
        "# @title Submit your feedback\n",
        "content_review(f\"{feedback_prefix}_Likelihood_Video\")"
      ]
    },
    {
      "cell_type": "markdown",
      "metadata": {
        "execution": {},
        "id": "vcNguwufcYyl"
      },
      "source": [
        "## Think! 3: Guessing the location of the fish\n",
        "\n",
        "Let's say we go to a different dock to fish. Here, there are different probabilities of catching fish given the state of the world. At this dock, if you fish on the side of the dock where the fish are, you have a 70% chance of catching a fish. If you fish on the wrong side, you will catch a fish with only 20% probability. These are the likelihoods of observing someone catching a fish! That is, you are taking a measurement by seeing if someone else catches a fish!\n",
        "\n",
        "You see a fisher-person is fishing on the left side.\n",
        "\n",
        "1) Please figure out each of the following (might be easiest to do this separately and then compare notes):\n",
        "- probability of catching a fish given that the school of fish is on the left side, $P(m = \\textrm{catch fish} | s = \\textrm{left} )$\n",
        "- probability of not catching a fish given that the school of fish is on the left side, $P(m = \\textrm{no fish} | s = \\textrm{left})$\n",
        "- probability of catching a fish given that the school of fish is on the right side, $P(m = \\textrm{catch  fish} | s = \\textrm{right})$\n",
        "- probability of not catching a fish given that the school of fish is on the right side, $P(m = \\textrm{no fish} | s = \\textrm{right})$\n",
        "\n",
        "2) If the fisher-person catches a fish, which side would you guess the school is on? Why?\n",
        "\n",
        "3) If the fisher-person does not catch a fish, which side would you guess the school is on? Why?\n"
      ]
    },
    {
      "cell_type": "markdown",
      "metadata": {
        "execution": {},
        "id": "CFK2GPZ5cYyl"
      },
      "source": [
        "[*Click for solution*](https://github.com/NeuromatchAcademy/course-content/tree/main/tutorials/W3D1_BayesianDecisions/solutions/W3D1_Tutorial1_Solution_fdd90301.py)\n",
        "\n"
      ]
    },
    {
      "cell_type": "code",
      "execution_count": null,
      "metadata": {
        "cellView": "form",
        "execution": {},
        "id": "nDOfC_aqcYyl"
      },
      "outputs": [],
      "source": [
        "# @title Submit your feedback\n",
        "content_review(f\"{feedback_prefix}_Guessing_the_location_of_the_fish_Discussion\")"
      ]
    },
    {
      "cell_type": "markdown",
      "metadata": {
        "execution": {},
        "id": "uH-gnIemcYyl"
      },
      "source": [
        "In the prior exercise, you tried to guess where the school of fish was based on the measurement you took (watching someone fish). You did this by choosing the state (side where you think the fish are) that maximized the probability of the measurement. In other words, you estimated the state by maximizing the likelihood (the side with the highest probability of measurement given state $P(m|s$)). This is called maximum likelihood estimation (MLE) and you've encountered it before during this course, in the [pre-reqs statistics day](https://compneuro.neuromatch.io/tutorials/W0D5_Statistics/student/W0D5_Tutorial2.html#section-2-2-maximum-likelihood) and on [Model Fitting day](https://compneuro.neuromatch.io/tutorials/W1D3_ModelFitting/student/W1D3_Tutorial2.html)!\n",
        "\n",
        "But, what if you had been going to this dock for years and you knew that the fish were almost always on the left side? This should probably affect how you make your estimate -- you would rely less on the single new measurement and more on your prior knowledge. This is the fundamental idea behind Bayesian inference, as we will see later in this tutorial!"
      ]
    },
    {
      "cell_type": "markdown",
      "metadata": {
        "execution": {},
        "id": "QC7t3yQZcYyl"
      },
      "source": [
        "---\n",
        "# Section 4: Correlation and marginalization\n",
        "\n",
        "*Estimated timing to here from start of tutorial: 35 min*\n"
      ]
    },
    {
      "cell_type": "code",
      "execution_count": null,
      "metadata": {
        "cellView": "form",
        "execution": {},
        "id": "M0r64FOecYyl"
      },
      "outputs": [],
      "source": [
        "# @title Video 6: Correlation and marginalization\n",
        "from ipywidgets import widgets\n",
        "from IPython.display import YouTubeVideo\n",
        "from IPython.display import IFrame\n",
        "from IPython.display import display\n",
        "\n",
        "\n",
        "class PlayVideo(IFrame):\n",
        "  def __init__(self, id, source, page=1, width=400, height=300, **kwargs):\n",
        "    self.id = id\n",
        "    if source == 'Bilibili':\n",
        "      src = f'https://player.bilibili.com/player.html?bvid={id}&page={page}'\n",
        "    elif source == 'Osf':\n",
        "      src = f'https://mfr.ca-1.osf.io/render?url=https://osf.io/download/{id}/?direct%26mode=render'\n",
        "    super(PlayVideo, self).__init__(src, width, height, **kwargs)\n",
        "\n",
        "\n",
        "def display_videos(video_ids, W=400, H=300, fs=1):\n",
        "  tab_contents = []\n",
        "  for i, video_id in enumerate(video_ids):\n",
        "    out = widgets.Output()\n",
        "    with out:\n",
        "      if video_ids[i][0] == 'Youtube':\n",
        "        video = YouTubeVideo(id=video_ids[i][1], width=W,\n",
        "                             height=H, fs=fs, rel=0)\n",
        "        print(f'Video available at https://youtube.com/watch?v={video.id}')\n",
        "      else:\n",
        "        video = PlayVideo(id=video_ids[i][1], source=video_ids[i][0], width=W,\n",
        "                          height=H, fs=fs, autoplay=False)\n",
        "        if video_ids[i][0] == 'Bilibili':\n",
        "          print(f'Video available at https://www.bilibili.com/video/{video.id}')\n",
        "        elif video_ids[i][0] == 'Osf':\n",
        "          print(f'Video available at https://osf.io/{video.id}')\n",
        "      display(video)\n",
        "    tab_contents.append(out)\n",
        "  return tab_contents\n",
        "\n",
        "\n",
        "video_ids = [('Youtube', 'iprFMHch2_g'), ('Bilibili', 'BV1Zq4y1p7N6')]\n",
        "tab_contents = display_videos(video_ids, W=854, H=480)\n",
        "tabs = widgets.Tab()\n",
        "tabs.children = tab_contents\n",
        "for i in range(len(tab_contents)):\n",
        "  tabs.set_title(i, video_ids[i][0])\n",
        "display(tabs)"
      ]
    },
    {
      "cell_type": "code",
      "execution_count": null,
      "metadata": {
        "cellView": "form",
        "execution": {},
        "id": "jAL0wId5cYyl"
      },
      "outputs": [],
      "source": [
        "# @title Submit your feedback\n",
        "content_review(f\"{feedback_prefix}_Correlation_and_marginalization_Video\")"
      ]
    },
    {
      "cell_type": "markdown",
      "metadata": {
        "execution": {},
        "id": "9n8teOexcYyl"
      },
      "source": [
        "## Section 4.1: Correlation"
      ]
    },
    {
      "cell_type": "markdown",
      "metadata": {
        "execution": {},
        "id": "cVuWbqdGcYyn"
      },
      "source": [
        "In this section, we are going to take a step back for a bit and think more generally about the amount of information shared between two random variables. We want to know how much information you gain when you observe one variable (take a measurement) if you know something about another. We will see that the fundamental concept is the same if we think about two attributes, for example the size and color of the fish, or the prior information and the likelihood.\n"
      ]
    },
    {
      "cell_type": "markdown",
      "metadata": {
        "execution": {},
        "id": "vpLMwf_ecYyn"
      },
      "source": [
        "### Think! 4.1: Covarying probability distributions\n",
        "\n",
        "The relationship between the marginal probabilities and the joint probabilities is determined by the correlation between the two random variables - a normalized measure of how much the variables covary. We can also think of this as gaining some information about one of the variables when we observe a measurement from the other. We will think about this more formally in Tutorial 2.\n",
        "\n",
        "Here, we want to think about how the correlation between size and color of these fish changes how much information we gain about one attribute based on the other. See Bonus Section 1 for the formula for correlation.\n",
        "\n",
        "Use the widget below and answer the following questions:\n",
        "\n",
        "1. When the correlation is zero, $\\rho = 0$, what does the distribution of size tell you about color?\n",
        "2. Set $\\rho$ to something small. As you change the probability of golden fish, what happens to the ratio of size probabilities? Set $\\rho$ larger (can be negative). Can you explain the pattern of changes in the probabilities of size as you change the probability of golden fish?\n",
        "3. Set the probability of golden fish and of large fish to around 65%. As the correlation goes towards 1, how often will you see silver large fish?\n",
        "4. What is increasing the (absolute) correlation telling you about how likely you are to see one of the properties if you see a fish with the other?\n"
      ]
    },
    {
      "cell_type": "code",
      "execution_count": 7,
      "metadata": {
        "cellView": "form",
        "execution": {},
        "id": "YEc0wV5QcYyn",
        "outputId": "94096407-5405-45bf-fc9e-bdde67a6b836",
        "colab": {
          "base_uri": "https://localhost:8080/",
          "height": 615,
          "referenced_widgets": [
            "af40bfcda4814b3ba984e6c1a3b863db",
            "f22a8e1206024504a9fe57500786614f",
            "1ad93fcf3ee74b49b9504fc780311ece",
            "8b1d6363b41c4060b479257236ccfc7b",
            "876eff0881dc4d9a9c4fc7a7933f536b",
            "01b1278255c24f54a0fc78c65d40209b",
            "e2d9976a561e4f93a7db4535f98708ed",
            "0adc886e348f4875bbb46f3acdffcfde",
            "eb79ddadcf0d426eb16b1635bdbb11bf",
            "262e025dfab4468fb1e24a27053f3861",
            "f2d9cbe9470b4490852b1f0a56103715",
            "c826d2a62a914e5cb4b41af75aa73658",
            "08c8a2677d0541bfa32925e50943fbd0"
          ]
        }
      },
      "outputs": [
        {
          "output_type": "display_data",
          "data": {
            "text/plain": [
              "interactive(children=(FloatSlider(value=0.5, description='p(color=golden)', layout=Layout(grid_area='widget002…"
            ],
            "application/vnd.jupyter.widget-view+json": {
              "version_major": 2,
              "version_minor": 0,
              "model_id": "af40bfcda4814b3ba984e6c1a3b863db"
            }
          },
          "metadata": {}
        }
      ],
      "source": [
        "# @markdown Execute this cell to enable the widget\n",
        "style = {'description_width': 'initial'}\n",
        "gs = GridspecLayout(2,2)\n",
        "\n",
        "cor_widget = widgets.FloatSlider(0.0, description='ρ',\n",
        "                                 min=-1, max=1, step=0.01)\n",
        "px_widget = widgets.FloatSlider(0.5, description='p(color=golden)',\n",
        "                                min=0.01, max=0.99, step=0.01,\n",
        "                                style=style)\n",
        "py_widget = widgets.FloatSlider(0.5, description='p(size=large)',\n",
        "                                min=0.01, max=0.99, step=0.01,\n",
        "                                style=style)\n",
        "gs[0, 0] = cor_widget\n",
        "gs[0, 1] = px_widget\n",
        "gs[1, 0] = py_widget\n",
        "\n",
        "\n",
        "@widgets.interact(\n",
        "    px=px_widget,\n",
        "    py=py_widget,\n",
        "    cor=cor_widget,\n",
        ")\n",
        "\n",
        "\n",
        "def make_corr_plot(px, py, cor):\n",
        "  Cmin, Cmax = compute_cor_range(px, py)  # allow correlation values\n",
        "  cor_widget.min, cor_widget.max = Cmin+0.01, Cmax-0.01\n",
        "  if cor_widget.value > Cmax:\n",
        "    cor_widget.value = Cmax\n",
        "  if cor_widget.value < Cmin:\n",
        "    cor_widget.value = Cmin\n",
        "  cor = cor_widget.value\n",
        "  P = compute_marginal(px,py,cor)\n",
        "  fig = plot_joint_probs(P)\n",
        "  plt.show(fig)\n",
        "  plt.close(fig)"
      ]
    },
    {
      "cell_type": "markdown",
      "metadata": {
        "execution": {},
        "id": "yVgMj6BFcYyn"
      },
      "source": [
        "[*Click for solution*](https://github.com/NeuromatchAcademy/course-content/tree/main/tutorials/W3D1_BayesianDecisions/solutions/W3D1_Tutorial1_Solution_eb6596af.py)\n",
        "\n"
      ]
    },
    {
      "cell_type": "code",
      "execution_count": null,
      "metadata": {
        "cellView": "form",
        "execution": {},
        "id": "V1tLFqZGcYyo"
      },
      "outputs": [],
      "source": [
        "# @title Submit your feedback\n",
        "content_review(f\"{feedback_prefix}_Covarying_probability_distributions_Discussion\")"
      ]
    },
    {
      "cell_type": "markdown",
      "metadata": {
        "execution": {},
        "id": "iKkhkW-3cYyo"
      },
      "source": [
        "We have just seen how two random variables can be more or less independent. The more correlated, the less independent, and the more shared information. We also learned that we can marginalize to determine the marginal likelihood of a measurement or to find the marginal probability distribution of two random variables. We are going to now complete our journey towards being fully Bayesian!"
      ]
    },
    {
      "cell_type": "markdown",
      "metadata": {
        "execution": {},
        "id": "C7P4xZOKcYyo"
      },
      "source": [
        "## Section 4.2: Marginalization"
      ]
    },
    {
      "cell_type": "markdown",
      "metadata": {
        "execution": {},
        "id": "sNZuISO2cYyo"
      },
      "source": [
        "\n",
        "<details>\n",
        "<summary> <font color=‘blue’>Click here for text recap of relevant part of video </font></summary>\n",
        "\n",
        "We may want to find the probability of one variable while ignoring another: we will do this by averaging out, or marginalizing, the irrelevant variable.\n",
        "\n",
        "We will think of this in two different ways.\n",
        "\n",
        "In the first math exercise, you will think about the case where you know the joint probabilities of two variables and want to figure out the probability of just one variable. To make this explicit, let's assume that a fish has a color that is either gold or silver (our first variable) and a size that is either small or large (our second). We could write out the the **joint probabilities**: the probability of both specific attributes occurring together. For example, the probability of a fish being small and silver, $P(X = \\textrm{small}, Y = \\textrm{silver})$, is 0.4. The following table summarizes our joint probabilities:\n",
        "\n",
        "| P(X, Y)        | Y = silver  | Y = gold  |\n",
        "| -------------- |-------------|-----------|\n",
        "| X = small      | 0.4         | 0.2       |\n",
        "| X = large      | 0.1         | 0.3       |\n",
        "\n",
        "\n",
        "We want to know what the probability of a fish being small  regardless of color. Since the fish are either silver or gold, this would be the probability of a fish being small and silver plus the probability of a fish being small and gold. This is an example of marginalizing, or averaging out, the variable we are not interested in across the rows or columns.. In math speak: $P(X = \\textrm{small}) = \\sum_y{P(X = \\textrm{small}, Y)}$. This gives us a **marginal probability**, a probability of a variable outcome (in this case size), regardless of the other variables (in this case color).\n",
        "\n",
        "More generally, we can marginalize out a second irrelevant variable $y$ by summing over the relevant joint probabilities:\n",
        "\n",
        "\\begin{equation}\n",
        "p(x) = \\sum_y p(x, y)\n",
        "\\end{equation}\n",
        "\n",
        "In the second math exercise, you will remove an unknown (the hidden state) to find the marginal probability of a measurement. You will do this by marginalizing out the hidden state. In this case, you know the conditional probabilities of the measurement given state and the probabilities of each state. You can marginalize using:\n",
        "\n",
        "\\begin{equation}\n",
        "p(m) = \\sum_s p(m | s) p(s)\n",
        "\\end{equation}\n",
        "\n",
        "These two ways of thinking about marginalization (as averaging over joint probabilities or conditioning on some variable) are equivalent because the joint probability of two variables equals the conditional probability of the first given the second times the marginal probability of the second:\n",
        "\n",
        "\\begin{equation}\n",
        "p(x, y) = p(x|y)p(y)\n",
        "\\end{equation}\n"
      ]
    },
    {
      "cell_type": "markdown",
      "metadata": {
        "execution": {},
        "id": "2xnI2UNDcYyo"
      },
      "source": [
        "### Math Exercise 4.2.1: Computing marginal probabilities\n",
        "\n",
        "To understand the information between two variables, let's first consider the joint probabilities over the size and color of the fish.\n",
        "\n",
        "| P(X, Y)        | Y = silver  | Y = gold  |\n",
        "| -------------- |-------------|-----------|\n",
        "| X = small      | 0.4         | 0.2       |\n",
        "| X = large      | 0.1         | 0.3       |\n",
        "\n",
        "Please complete the following math problems to further practice thinking through probabilities:\n",
        "\n",
        "1. Calculate the probability of a fish being silver.\n",
        "2. Calculate the probability of a fish being small, large, silver, or gold.\n",
        "3. Calculate the probability of a fish being small OR gold. **Hint:** $P(A\\ \\textrm{or}\\ B) = P(A) + P(B) - P(A\\ \\textrm{and}\\ B)$.\n",
        "\n",
        "**We don't typically have math exercises in NMA but feel it is important for you to really compute this out yourself. Feel free to use the next cell to write out the math if helpful, or use paper and pen. We recommend doing this exercise individually first and then comparing notes and discussing.**"
      ]
    },
    {
      "cell_type": "code",
      "execution_count": 8,
      "metadata": {
        "execution": {},
        "id": "gYLQRYx_cYyo",
        "outputId": "6551d569-bc89-4156-c03c-6a76e421a65f",
        "colab": {
          "base_uri": "https://localhost:8080/",
          "height": 72
        }
      },
      "outputs": [
        {
          "output_type": "execute_result",
          "data": {
            "text/plain": [
              "'\\nJoint probabilities\\n\\nP( X = small, Y = silver) = 0.4\\nP( X = large, Y = silver) = 0.1\\nP( X = small, Y = gold) = 0.2\\nP( X = large, Y = gold) = 0.3\\n\\n\\n1. P(Y = silver) = 0.5\\n\\n2. P(X = small or large, Y = silver or gold) = 1\\n\\n3. P( X = small or Y = gold) = 0.2+0.4+0.3 = 0.9\\n\\n'"
            ],
            "application/vnd.google.colaboratory.intrinsic+json": {
              "type": "string"
            }
          },
          "metadata": {},
          "execution_count": 8
        }
      ],
      "source": [
        "\"\"\"\n",
        "Joint probabilities\n",
        "\n",
        "P( X = small, Y = silver) = 0.4\n",
        "P( X = large, Y = silver) = 0.1\n",
        "P( X = small, Y = gold) = 0.2\n",
        "P( X = large, Y = gold) = 0.3\n",
        "\n",
        "\n",
        "1. P(Y = silver) = 0.5\n",
        "\n",
        "2. P(X = small or large, Y = silver or gold) = 1\n",
        "\n",
        "3. P( X = small or Y = gold) = 0.2+0.4+0.3 = 0.9\n",
        "\n",
        "\"\"\""
      ]
    },
    {
      "cell_type": "markdown",
      "metadata": {
        "execution": {},
        "id": "YG2YUPKscYyo"
      },
      "source": [
        "[*Click for solution*](https://github.com/NeuromatchAcademy/course-content/tree/main/tutorials/W3D1_BayesianDecisions/solutions/W3D1_Tutorial1_Solution_b60a0fd3.py)\n",
        "\n"
      ]
    },
    {
      "cell_type": "code",
      "execution_count": null,
      "metadata": {
        "cellView": "form",
        "execution": {},
        "id": "gibKJdOwcYyo"
      },
      "outputs": [],
      "source": [
        "# @title Submit your feedback\n",
        "content_review(f\"{feedback_prefix}_Computing_marginal_probabilities_Math_Exercise\")"
      ]
    },
    {
      "cell_type": "markdown",
      "metadata": {
        "execution": {},
        "id": "fGfz3yFUcYyo"
      },
      "source": [
        "### Math Exercise 4.2.2: Computing marginal likelihood\n",
        "\n",
        "When we normalize to find the posterior, we need to determine the marginal likelihood--or evidence--for the measurement we observed. To do this, we need to marginalize as we just did above to find the probabilities of a color or size. Only, in this case, we are marginalizing to remove a conditioning variable! In this case, let's consider the likelihood of fish (if we observed a fisher-person fishing on the **right**).\n",
        "\n",
        "| p(m\\|s)       | m = fish | m = no fish  |\n",
        "| ------------ | ---------- | -------------- |\n",
        "| s = left     | 0.1      | 0.9          |\n",
        "| s = right    | 0.5      | 0.5          |\n",
        "\n",
        "\n",
        "The table above shows us the **likelihoods**, just as we explored earlier.\n",
        "\n",
        "You want to know the total probability of a fish being caught, $P(m = \\textrm{fish})$, by the fisher-person fishing on the right. (You would need this to calculate the posterior.) To do this, you will need to consider the prior probability, $p(s)$, and marginalize over the hidden states!\n",
        "\n",
        "This is an example of marginalizing, or conditioning away, the variable we are not interested in as well.\n",
        "\n",
        "Please complete the following math problems to further practice thinking through probabilities:\n",
        "\n",
        "1. Calculate the marginal likelihood of the fish being caught, $P(m = \\textrm{fish})$, if the priors are: $p(s = \\textrm{left}) = 0.3$ and $p(s = \\textrm{right}) = 0.7$.\n",
        "2. Calculate the marginal likelihood of the fish being caught,  $P(m = \\textrm{fish})$, if the priors are: $p(s = \\textrm{left}) = 0.6$ and $p(s = \\textrm{right}) = 0.4$.\n",
        "\n",
        "**We don't typically have math exercises in NMA but feel it is important for you to really compute this out yourself. Feel free to use the next cell to write out the math if helpful, or use paper and pen. We recommend doing this exercise individually first and then comparing notes and discussing.**\n"
      ]
    },
    {
      "cell_type": "code",
      "execution_count": null,
      "metadata": {
        "execution": {},
        "id": "-1U91NLEcYyo"
      },
      "outputs": [],
      "source": [
        "\"\"\"\n",
        "\n",
        "Priors\n",
        "P(s = left) = 0.3\n",
        "P(s = right) = 0.7\n",
        "\n",
        "Likelihoods\n",
        "P(m = fish | s = left) = 0.1\n",
        "P(m = fish | s = right) = 0.5\n",
        "P(m = no fish | s = left) = 0.9\n",
        "P(m = no fish | s = right) = 0.5\n",
        "\n",
        "1. P(m = fish) = 0.1*0.3+0.5*0.7=0.038\n",
        "\n",
        "2. P(m = fish) =\n",
        "\n",
        "\"\"\""
      ]
    },
    {
      "cell_type": "markdown",
      "metadata": {
        "execution": {},
        "id": "JPW6gXW5cYyo"
      },
      "source": [
        "[*Click for solution*](https://github.com/NeuromatchAcademy/course-content/tree/main/tutorials/W3D1_BayesianDecisions/solutions/W3D1_Tutorial1_Solution_63e04b30.py)\n",
        "\n"
      ]
    },
    {
      "cell_type": "code",
      "execution_count": null,
      "metadata": {
        "cellView": "form",
        "execution": {},
        "id": "JjPuhIMscYyo"
      },
      "outputs": [],
      "source": [
        "# @title Submit your feedback\n",
        "content_review(f\"{feedback_prefix}_Computing_marginal_likelihood_Math_Exercise\")"
      ]
    },
    {
      "cell_type": "markdown",
      "metadata": {
        "execution": {},
        "id": "GOTgEdtBcYyo"
      },
      "source": [
        "---\n",
        "# Section 5: Bayes' Rule and the Posterior\n",
        "\n",
        "*Estimated timing to here from start of tutorial: 55 min*"
      ]
    },
    {
      "cell_type": "code",
      "execution_count": null,
      "metadata": {
        "cellView": "form",
        "execution": {},
        "id": "RKD9WnEEcYyo"
      },
      "outputs": [],
      "source": [
        "# @title Video 7: Posterior Beliefs\n",
        "from ipywidgets import widgets\n",
        "from IPython.display import YouTubeVideo\n",
        "from IPython.display import IFrame\n",
        "from IPython.display import display\n",
        "\n",
        "\n",
        "class PlayVideo(IFrame):\n",
        "  def __init__(self, id, source, page=1, width=400, height=300, **kwargs):\n",
        "    self.id = id\n",
        "    if source == 'Bilibili':\n",
        "      src = f'https://player.bilibili.com/player.html?bvid={id}&page={page}'\n",
        "    elif source == 'Osf':\n",
        "      src = f'https://mfr.ca-1.osf.io/render?url=https://osf.io/download/{id}/?direct%26mode=render'\n",
        "    super(PlayVideo, self).__init__(src, width, height, **kwargs)\n",
        "\n",
        "\n",
        "def display_videos(video_ids, W=400, H=300, fs=1):\n",
        "  tab_contents = []\n",
        "  for i, video_id in enumerate(video_ids):\n",
        "    out = widgets.Output()\n",
        "    with out:\n",
        "      if video_ids[i][0] == 'Youtube':\n",
        "        video = YouTubeVideo(id=video_ids[i][1], width=W,\n",
        "                             height=H, fs=fs, rel=0)\n",
        "        print(f'Video available at https://youtube.com/watch?v={video.id}')\n",
        "      else:\n",
        "        video = PlayVideo(id=video_ids[i][1], source=video_ids[i][0], width=W,\n",
        "                          height=H, fs=fs, autoplay=False)\n",
        "        if video_ids[i][0] == 'Bilibili':\n",
        "          print(f'Video available at https://www.bilibili.com/video/{video.id}')\n",
        "        elif video_ids[i][0] == 'Osf':\n",
        "          print(f'Video available at https://osf.io/{video.id}')\n",
        "      display(video)\n",
        "    tab_contents.append(out)\n",
        "  return tab_contents\n",
        "\n",
        "\n",
        "video_ids = [('Youtube', 'cOAJQ4utwD0'), ('Bilibili', 'BV1fK4y1M7EC')]\n",
        "tab_contents = display_videos(video_ids, W=854, H=480)\n",
        "tabs = widgets.Tab()\n",
        "tabs.children = tab_contents\n",
        "for i in range(len(tab_contents)):\n",
        "  tabs.set_title(i, video_ids[i][0])\n",
        "display(tabs)"
      ]
    },
    {
      "cell_type": "code",
      "execution_count": null,
      "metadata": {
        "cellView": "form",
        "execution": {},
        "id": "9vBn10BpcYyo"
      },
      "outputs": [],
      "source": [
        "# @title Submit your feedback\n",
        "content_review(f\"{feedback_prefix}_Posterior_Beliefs_Video\")"
      ]
    },
    {
      "cell_type": "markdown",
      "metadata": {
        "execution": {},
        "id": "ydFWykP_cYyo"
      },
      "source": [
        "Marginalization is going to be used to combine our prior knowledge, which we call the **prior**, and our new information from a measurement, the **likelihood**. Only in this case, the information we gain about the hidden state we are interested in, where the fish are, is based on the relationship between the probabilities of the measurement and our prior.\n",
        "\n",
        "We can now calculate the full posterior distribution for the hidden state ($s$) using Bayes' Rule. As we've seen, the posterior is proportional to the prior times the likelihood. This means that the posterior probability of the hidden state ($s$) given a measurement ($m$) is proportional to the likelihood of the measurement given the state times the prior probability of that state:\n",
        "\n",
        "\\begin{equation}\n",
        "P(s | m) \\propto P(m | s) P(s)\n",
        "\\end{equation}\n",
        "\n",
        "We say proportional to instead of equal because we need to normalize to produce a full probability distribution:\n",
        "\n",
        "\\begin{equation}\n",
        "P(s | m) = \\frac{P(m | s) P(s)}{P(m)}\n",
        "\\end{equation}\n",
        "\n",
        "Normalizing by this $P(m)$ means that our posterior is a complete probability distribution that sums or integrates to 1 appropriately. We now can use this new, complete probability distribution for any future inference or decisions we like! In fact, as we will see tomorrow, we can use it as a new prior! Finally, we often call this probability distribution our beliefs over the hidden states, to emphasize that it is our subjective knowledge about the hidden state.\n",
        "\n",
        "For many complicated cases, like those we might be using to model behavioral or brain inferences, the normalization term can be intractable or extremely complex to calculate. We can be careful to choose probability distributions whfere we can analytically calculate the posterior probability or numerical approximation is reliable. Better yet, we sometimes don't need to bother with this normalization! The normalization term, $P(m)$, is the probability of the measurement. This does not depend on state so is essentially a constant we can often ignore. We can compare the unnormalized posterior distribution values for different states because how they relate to each other is unchanged when divided by the same constant. We will see how to do this to compare evidence for different hypotheses tomorrow. (It's also used to compare the likelihood of models fit using maximum likelihood estimation)\n",
        "\n",
        "In this relatively simple example, we can compute the marginal likelihood $P(m)$ easily by using:\n",
        "\n",
        "\\begin{equation}\n",
        "P(m) = \\sum_s P(m | s) P(s)\n",
        "\\end{equation}\n",
        "\n",
        "We can then normalize so that we deal with the full posterior distribution."
      ]
    },
    {
      "cell_type": "markdown",
      "metadata": {
        "execution": {},
        "id": "GBfsJj_RcYyo"
      },
      "source": [
        "## Math Exercise 5: Calculating a posterior probability\n",
        "\n",
        "Our prior is $p(s = \\textrm{left}) = 0.3$ and $p(s = \\textrm{right}) = 0.7$. In the video, we learned that the chance of catching a fish given they fish on the same side as the school was 50%. Otherwise, it was 10%. We observe a person fishing on the left side. Our likelihood is:\n",
        "\n",
        "\n",
        "| Likelihood: p(m \\| s) | m = fish   | m = no fish  |\n",
        "| ----------------- |----------|----------|\n",
        "| s = left          | 0.5          | 0.5         |\n",
        "| s = right         | 0.1        |  0.9       |\n",
        "\n",
        "\n",
        "Calculate the posterior probability (on paper) that:\n",
        "\n",
        "1. The school is on the left if the fisher-person catches a fish: $p(s = \\textrm{left} | m = \\textrm{fish})$ (hint: normalize by computing $p(m = \\textrm{fish})$)\n",
        "2. The school is on the right if the fisher-person does not catch a fish: $p(s = \\textrm{right} | m = \\textrm{no fish})$\n",
        "\n",
        "<br>\n",
        "\n",
        "**We don't typically have math exercises in NMA but feel it is important for you to really compute this out yourself. Feel free to use the next cell to write out the math if helpful, or use paper and pen. We recommend doing this exercise individually first and then comparing notes and discussing.**"
      ]
    },
    {
      "cell_type": "code",
      "execution_count": null,
      "metadata": {
        "execution": {},
        "id": "v6Xx92mocYyo"
      },
      "outputs": [],
      "source": [
        "\"\"\"\n",
        "Priors\n",
        "p(s = left) = 0.3\n",
        "p(s = right) = 0.7\n",
        "\n",
        "Likelihoods\n",
        "P(m = fish | s = left) = 0.5\n",
        "P(m = fish | s = right) = 0.1\n",
        "P(m = no fish | s = left) = 0.5\n",
        "P(m = no fish | s = right) = 0.9\n",
        "\n",
        "1. p( s = left | m = fish) = ...\n",
        "\n",
        "2. p( s = right | m = no fish ) = ...\n",
        "\n",
        "\"\"\""
      ]
    },
    {
      "cell_type": "markdown",
      "metadata": {
        "execution": {},
        "id": "h5dfjpM3cYyo"
      },
      "source": [
        "[*Click for solution*](https://github.com/NeuromatchAcademy/course-content/tree/main/tutorials/W3D1_BayesianDecisions/solutions/W3D1_Tutorial1_Solution_ef5710ed.py)\n",
        "\n"
      ]
    },
    {
      "cell_type": "code",
      "execution_count": null,
      "metadata": {
        "cellView": "form",
        "execution": {},
        "id": "SgE7KJXDcYyo"
      },
      "outputs": [],
      "source": [
        "# @title Submit your feedback\n",
        "content_review(f\"{feedback_prefix}_Calculating_a_posterior_probability_Math_Exercise\")"
      ]
    },
    {
      "cell_type": "markdown",
      "metadata": {
        "execution": {},
        "id": "U8eip1fAcYyo"
      },
      "source": [
        "## Coding Exercise 5: Computing Posteriors\n",
        "\n",
        "Let's implement our above math to be able to compute posteriors for different priors and likelihoods.\n",
        "\n",
        "As before, our prior is $p(s = \\textrm{left}) = 0.3$ and $p(s = \\textrm{right}) = 0.7$. In the video, we learned that the chance of catching a fish given they fish on the same side as the school was 50%. Otherwise, it was 10%. We observe a person fishing on the left side. Our likelihood is:\n",
        "\n",
        "\n",
        "| Likelihood: p(m \\| s) | m = fish   | m = no fish  |\n",
        "| ----------------- |----------|----------|\n",
        "| s = left          | 0.5          | 0.5         |\n",
        "| s = right         | 0.1        |  0.9       |\n",
        "\n",
        "\n",
        "We want our full posterior to take the same 2 by 2 form. Make sure the outputs match your math answers!\n",
        "\n"
      ]
    },
    {
      "cell_type": "code",
      "execution_count": null,
      "metadata": {
        "execution": {},
        "id": "tdx-x78VcYyo"
      },
      "outputs": [],
      "source": [
        "def compute_posterior(likelihood, prior):\n",
        "  \"\"\" Use Bayes' Rule to compute posterior from likelihood and prior\n",
        "\n",
        "  Args:\n",
        "    likelihood (ndarray): i x j array with likelihood probabilities where i is\n",
        "                    number of state options, j is number of measurement options\n",
        "    prior (ndarray): i x 1 array with prior probability of each state\n",
        "\n",
        "  Returns:\n",
        "    ndarray: i x j array with posterior probabilities where i is\n",
        "            number of state options, j is number of measurement options\n",
        "\n",
        "  \"\"\"\n",
        "\n",
        "  #################################################\n",
        "  ## TODO for students ##\n",
        "  # Fill out function and remove\n",
        "  raise NotImplementedError(\"Student exercise: implement compute_posterior\")\n",
        "  #################################################\n",
        "\n",
        "  # Compute unnormalized posterior (likelihood times prior)\n",
        "  posterior = ... # first row is s = left, second row is s = right\n",
        "\n",
        "  # Compute p(m)\n",
        "  p_m = np.sum(posterior, axis = 0)\n",
        "\n",
        "  # Normalize posterior (divide elements by p_m)\n",
        "  posterior /= ...\n",
        "\n",
        "  return posterior\n",
        "\n",
        "\n",
        "# Make prior\n",
        "prior = np.array([0.3, 0.7]).reshape((2, 1)) # first row is s = left, second row is s = right\n",
        "\n",
        "# Make likelihood\n",
        "likelihood = np.array([[0.5, 0.5], [0.1, 0.9]]) # first row is s = left, second row is s = right\n",
        "\n",
        "# Compute posterior\n",
        "posterior = compute_posterior(likelihood, prior)\n",
        "\n",
        "# Visualize\n",
        "plot_prior_likelihood_posterior(prior, likelihood, posterior)"
      ]
    },
    {
      "cell_type": "markdown",
      "metadata": {
        "execution": {},
        "id": "a2zgBnIYcYyo"
      },
      "source": [
        "[*Click for solution*](https://github.com/NeuromatchAcademy/course-content/tree/main/tutorials/W3D1_BayesianDecisions/solutions/W3D1_Tutorial1_Solution_1a2cc907.py)\n",
        "\n",
        "*Example output:*\n",
        "\n",
        "<img alt='Solution hint' align='left' width=1157.0 height=461.0 src=https://raw.githubusercontent.com/NeuromatchAcademy/course-content/main/tutorials/W3D1_BayesianDecisions/static/W3D1_Tutorial1_Solution_1a2cc907_0.png>\n",
        "\n"
      ]
    },
    {
      "cell_type": "code",
      "execution_count": null,
      "metadata": {
        "cellView": "form",
        "execution": {},
        "id": "mYa9-L1ecYyo"
      },
      "outputs": [],
      "source": [
        "# @title Submit your feedback\n",
        "content_review(f\"{feedback_prefix}_Computing_Posteriors_Exercise\")"
      ]
    },
    {
      "cell_type": "markdown",
      "metadata": {
        "execution": {},
        "id": "nOGaduLfcYyo"
      },
      "source": [
        "## Interactive Demo 5: What affects the posterior?\n",
        "\n",
        "Now that we can understand the implementation of *Bayes rule*, let's vary the parameters of the prior and likelihood to see how changing the prior and likelihood affect the posterior.\n",
        "\n",
        "In the demo below, you can change the prior by playing with the slider for $p( s = left)$. You can also change the likelihood by changing the probability of catching a fish given that the school is on the left and the probability of catching a fish given that the school is on the right. The fisher-person you are observing is fishing on the left.\n",
        "\n",
        "\n",
        "1.   Keeping the likelihood constant, when does the prior have the strongest influence over the posterior? Meaning, when does the posterior look most like the prior no matter whether a fish was caught or not?\n",
        "2.   What happens if the likelihoods for catching a fish are similar when you fish on the correct or incorrect side?\n",
        "3.  Set the prior probability of the state = left to 0.6 and play with the likelihood. When does the likelihood exert the most influence over the posterior?"
      ]
    },
    {
      "cell_type": "code",
      "execution_count": 9,
      "metadata": {
        "cellView": "form",
        "execution": {},
        "id": "RB7faqbUcYyo",
        "outputId": "29041b6e-6653-4d4f-d352-ec2b034edf1c",
        "colab": {
          "base_uri": "https://localhost:8080/",
          "height": 576,
          "referenced_widgets": [
            "aabe616cd4e24dc8ad11a62414ef8e0b",
            "73881ba14b944683ab53a01e1474effd",
            "44def43c74194daa915f1e049e2853d0",
            "8cbbc8987b2947f0959a15103aa800f2",
            "aa2940f174e4463a97e2768f81116d45",
            "8b5578b4de0245029eafca9e3574ec97",
            "6a92a66dbb90498c82aee1982a0590be",
            "960ebaf294d44d58ba85b67dd8af22ce",
            "fd6a72a4cfe443b6b257546012b4100f",
            "bce1263031a44291ac40d30af3de14f1",
            "d61c4833dad64b66a23cfbcf6fa72008",
            "9a541c7d4d04417583f6c690de20193d",
            "9aca695781d34fad9d5ff39c526fad17",
            "d97042c70ddc411abf0859cd4936cc56",
            "d2ee83a0d8464f3a8daeaac523f08c9a",
            "c8ed3f9bb39045a2a21d6e1ec6d14ae2",
            "d775a1d3734b408cbf6aa761e7a58318",
            "c7e262dbe1a2404cb618f6224f1d1416"
          ]
        }
      },
      "outputs": [
        {
          "output_type": "display_data",
          "data": {
            "text/plain": [
              "VBox(children=(FloatSlider(value=0.3, description='p(s = left)', max=0.99, min=0.01, step=0.01), HBox(children…"
            ],
            "application/vnd.jupyter.widget-view+json": {
              "version_major": 2,
              "version_minor": 0,
              "model_id": "aabe616cd4e24dc8ad11a62414ef8e0b"
            }
          },
          "metadata": {}
        },
        {
          "output_type": "display_data",
          "data": {
            "text/plain": [
              "Output()"
            ],
            "application/vnd.jupyter.widget-view+json": {
              "version_major": 2,
              "version_minor": 0,
              "model_id": "d775a1d3734b408cbf6aa761e7a58318"
            }
          },
          "metadata": {}
        }
      ],
      "source": [
        "# @markdown Execute this cell to enable the widget\n",
        "# style = {'description_width': 'initial'}\n",
        "ps_widget = widgets.FloatSlider(0.3, description='p(s = left)',\n",
        "                                min=0.01, max=0.99, step=0.01)\n",
        "p_a_s1_widget = widgets.FloatSlider(0.5,\n",
        "                                    description='p(fish on left | state = left)',\n",
        "                                    min=0.01, max=0.99, step=0.01, style=style,\n",
        "                                    layout=Layout(width='370px'))\n",
        "p_a_s0_widget = widgets.FloatSlider(0.1,\n",
        "                                    description='p(fish on left | state = right)',\n",
        "                                    min=0.01, max=0.99, step=0.01, style=style,\n",
        "                                    layout=Layout(width='370px'))\n",
        "\n",
        "observed_widget = ToggleButtons(options=['Fish', 'No Fish'],\n",
        "    description='Observation (m) on the left:', disabled=False, button_style='',\n",
        "    layout=Layout(width='auto', display=\"flex\"),\n",
        "    style={'description_width': 'initial'}\n",
        ")\n",
        "\n",
        "widget_ui = VBox([ps_widget,\n",
        "                  HBox([p_a_s1_widget, p_a_s0_widget]),\n",
        "                  observed_widget])\n",
        "widget_out = interactive_output(plot_prior_likelihood,\n",
        "                                {'ps': ps_widget,\n",
        "                                'p_a_s1': p_a_s1_widget,\n",
        "                                'p_a_s0': p_a_s0_widget,\n",
        "                                'measurement': observed_widget})\n",
        "display(widget_ui, widget_out)"
      ]
    },
    {
      "cell_type": "markdown",
      "metadata": {
        "execution": {},
        "id": "a7OLc8t3cYyp"
      },
      "source": [
        "[*Click for solution*](https://github.com/NeuromatchAcademy/course-content/tree/main/tutorials/W3D1_BayesianDecisions/solutions/W3D1_Tutorial1_Solution_b12db064.py)\n",
        "\n"
      ]
    },
    {
      "cell_type": "code",
      "execution_count": null,
      "metadata": {
        "cellView": "form",
        "execution": {},
        "id": "TtiTcK6JcYyp"
      },
      "outputs": [],
      "source": [
        "# @title Submit your feedback\n",
        "content_review(f\"{feedback_prefix}_What_affects_the_posterior_Interactive_Demo_and_Discussion\")"
      ]
    },
    {
      "cell_type": "code",
      "execution_count": null,
      "metadata": {
        "cellView": "form",
        "execution": {},
        "id": "ag74zFohcYyp"
      },
      "outputs": [],
      "source": [
        "# @title Video 8: Posterior Beliefs Exercises Discussion\n",
        "from ipywidgets import widgets\n",
        "from IPython.display import YouTubeVideo\n",
        "from IPython.display import IFrame\n",
        "from IPython.display import display\n",
        "\n",
        "\n",
        "class PlayVideo(IFrame):\n",
        "  def __init__(self, id, source, page=1, width=400, height=300, **kwargs):\n",
        "    self.id = id\n",
        "    if source == 'Bilibili':\n",
        "      src = f'https://player.bilibili.com/player.html?bvid={id}&page={page}'\n",
        "    elif source == 'Osf':\n",
        "      src = f'https://mfr.ca-1.osf.io/render?url=https://osf.io/download/{id}/?direct%26mode=render'\n",
        "    super(PlayVideo, self).__init__(src, width, height, **kwargs)\n",
        "\n",
        "\n",
        "def display_videos(video_ids, W=400, H=300, fs=1):\n",
        "  tab_contents = []\n",
        "  for i, video_id in enumerate(video_ids):\n",
        "    out = widgets.Output()\n",
        "    with out:\n",
        "      if video_ids[i][0] == 'Youtube':\n",
        "        video = YouTubeVideo(id=video_ids[i][1], width=W,\n",
        "                             height=H, fs=fs, rel=0)\n",
        "        print(f'Video available at https://youtube.com/watch?v={video.id}')\n",
        "      else:\n",
        "        video = PlayVideo(id=video_ids[i][1], source=video_ids[i][0], width=W,\n",
        "                          height=H, fs=fs, autoplay=False)\n",
        "        if video_ids[i][0] == 'Bilibili':\n",
        "          print(f'Video available at https://www.bilibili.com/video/{video.id}')\n",
        "        elif video_ids[i][0] == 'Osf':\n",
        "          print(f'Video available at https://osf.io/{video.id}')\n",
        "      display(video)\n",
        "    tab_contents.append(out)\n",
        "  return tab_contents\n",
        "\n",
        "\n",
        "video_ids = [('Youtube', 'YPQgLVolvBs'), ('Bilibili', 'BV1TU4y1G7SM')]\n",
        "tab_contents = display_videos(video_ids, W=854, H=480)\n",
        "tabs = widgets.Tab()\n",
        "tabs.children = tab_contents\n",
        "for i in range(len(tab_contents)):\n",
        "  tabs.set_title(i, video_ids[i][0])\n",
        "display(tabs)"
      ]
    },
    {
      "cell_type": "code",
      "execution_count": null,
      "metadata": {
        "cellView": "form",
        "execution": {},
        "id": "TsDd0ZbkcYyp"
      },
      "outputs": [],
      "source": [
        "# @title Submit your feedback\n",
        "content_review(f\"{feedback_prefix}_Posterior_Beliefs_Exercises_Discussion_Video\")"
      ]
    },
    {
      "cell_type": "markdown",
      "metadata": {
        "execution": {},
        "id": "DLxHL3DqcYyp"
      },
      "source": [
        "# Section 6: Making Bayesian fishing decisions\n",
        "\n",
        "*Estimated timing to here from start of tutorial: 1 hr, 15 min*"
      ]
    },
    {
      "cell_type": "code",
      "execution_count": null,
      "metadata": {
        "cellView": "form",
        "execution": {},
        "id": "iOvoo3iWcYyp"
      },
      "outputs": [],
      "source": [
        "# @title Video 9: Bayesian Decisions\n",
        "from ipywidgets import widgets\n",
        "from IPython.display import YouTubeVideo\n",
        "from IPython.display import IFrame\n",
        "from IPython.display import display\n",
        "\n",
        "\n",
        "class PlayVideo(IFrame):\n",
        "  def __init__(self, id, source, page=1, width=400, height=300, **kwargs):\n",
        "    self.id = id\n",
        "    if source == 'Bilibili':\n",
        "      src = f'https://player.bilibili.com/player.html?bvid={id}&page={page}'\n",
        "    elif source == 'Osf':\n",
        "      src = f'https://mfr.ca-1.osf.io/render?url=https://osf.io/download/{id}/?direct%26mode=render'\n",
        "    super(PlayVideo, self).__init__(src, width, height, **kwargs)\n",
        "\n",
        "\n",
        "def display_videos(video_ids, W=400, H=300, fs=1):\n",
        "  tab_contents = []\n",
        "  for i, video_id in enumerate(video_ids):\n",
        "    out = widgets.Output()\n",
        "    with out:\n",
        "      if video_ids[i][0] == 'Youtube':\n",
        "        video = YouTubeVideo(id=video_ids[i][1], width=W,\n",
        "                             height=H, fs=fs, rel=0)\n",
        "        print(f'Video available at https://youtube.com/watch?v={video.id}')\n",
        "      else:\n",
        "        video = PlayVideo(id=video_ids[i][1], source=video_ids[i][0], width=W,\n",
        "                          height=H, fs=fs, autoplay=False)\n",
        "        if video_ids[i][0] == 'Bilibili':\n",
        "          print(f'Video available at https://www.bilibili.com/video/{video.id}')\n",
        "        elif video_ids[i][0] == 'Osf':\n",
        "          print(f'Video available at https://osf.io/{video.id}')\n",
        "      display(video)\n",
        "    tab_contents.append(out)\n",
        "  return tab_contents\n",
        "\n",
        "\n",
        "video_ids = [('Youtube', 'tz9zsmTHR68'), ('Bilibili', 'BV1954y1n7uH')]\n",
        "tab_contents = display_videos(video_ids, W=854, H=480)\n",
        "tabs = widgets.Tab()\n",
        "tabs.children = tab_contents\n",
        "for i in range(len(tab_contents)):\n",
        "  tabs.set_title(i, video_ids[i][0])\n",
        "display(tabs)"
      ]
    },
    {
      "cell_type": "code",
      "execution_count": null,
      "metadata": {
        "cellView": "form",
        "execution": {},
        "id": "npaDmAaAcYyp"
      },
      "outputs": [],
      "source": [
        "# @title Submit your feedback\n",
        "content_review(f\"{feedback_prefix}_Bayesian_Decisions_Video\")"
      ]
    },
    {
      "cell_type": "markdown",
      "metadata": {
        "execution": {},
        "id": "bQJxwTB4cYyp"
      },
      "source": [
        "\n",
        "We will explore how to consider the expected utility of an action based on our belief (the posterior distribution) about where we think the fish are. Now we have all the components of a Bayesian decision: our prior information, the likelihood given a measurement, the posterior distribution (belief) and our utility (the gains and losses). This allows us to consider the relationship between the true value of the hidden state, $s$, and what we *expect* to get if we take action, $a$, based on our belief!\n",
        "\n",
        "Let's use the following widget to think about the relationship between these probability distributions and utility function."
      ]
    },
    {
      "cell_type": "markdown",
      "metadata": {
        "execution": {},
        "id": "4Fc7a2uLcYyp"
      },
      "source": [
        "## Interactive Demo! 6: What is more important, the probabilities or the utilities?\n",
        "\n",
        "We are now going to put everything we've learned together to gain some intuitions for how each of the elements that goes into a Bayesian decision comes together. Remember, the common assumption in neuroscience, psychology, economics, ecology, etc. is that we (humans and animals) are trying to maximize our expected utility. There is a lot going on in this demo as it brings everything in this tutorial together in one place - please spend time making sure you understand the controls and the plots, especially how everything relates together.\n",
        "\n",
        "1. Can you find a situation where the expected utility is the same for both actions?\n",
        "2. What is more important for determining the expected utility: the prior or a new measurement (the likelihood)?\n",
        "3. Why is this a normative model?\n",
        "4. Can you think of ways in which this model would need to be extended to describe human or animal behavior?"
      ]
    },
    {
      "cell_type": "code",
      "execution_count": null,
      "metadata": {
        "cellView": "form",
        "execution": {},
        "id": "X4dsBGa3cYyp"
      },
      "outputs": [],
      "source": [
        "# @markdown Execute this cell to enable the widget\n",
        "# style = {'description_width': 'initial'}\n",
        "\n",
        "ps_widget = widgets.FloatSlider(0.3, description='p(s = left)',\n",
        "                                min=0.01, max=0.99, step=0.01,\n",
        "                                layout=Layout(width='300px'))\n",
        "p_a_s1_widget = widgets.FloatSlider(0.5,\n",
        "                                    description='p(fish on left | state = left)',\n",
        "                                    min=0.01, max=0.99, step=0.01,\n",
        "                                    style=style, layout=Layout(width='370px'))\n",
        "p_a_s0_widget = widgets.FloatSlider(0.1,\n",
        "                                    description='p(fish on left | state = right)',\n",
        "                                    min=0.01, max=0.99, step=0.01,\n",
        "                                    style=style, layout=Layout(width='370px'))\n",
        "\n",
        "observed_widget = ToggleButtons(options=['Fish', 'No Fish'],\n",
        "    description='Observation (m) on the left:', disabled=False, button_style='',\n",
        "    layout=Layout(width='auto', display=\"flex\"),\n",
        "    style={'description_width': 'initial'}\n",
        ")\n",
        "\n",
        "widget_ui = VBox([ps_widget,\n",
        "                  HBox([p_a_s1_widget, p_a_s0_widget]),\n",
        "                  observed_widget])\n",
        "\n",
        "widget_out = interactive_output(plot_prior_likelihood_utility,\n",
        "                                {'ps': ps_widget,\n",
        "                                'p_a_s1': p_a_s1_widget,\n",
        "                                'p_a_s0': p_a_s0_widget,\n",
        "                                'measurement': observed_widget})\n",
        "display(widget_ui, widget_out)"
      ]
    },
    {
      "cell_type": "markdown",
      "metadata": {
        "execution": {},
        "id": "J7zRvivScYyp"
      },
      "source": [
        "[*Click for solution*](https://github.com/NeuromatchAcademy/course-content/tree/main/tutorials/W3D1_BayesianDecisions/solutions/W3D1_Tutorial1_Solution_fb91b9f9.py)\n",
        "\n"
      ]
    },
    {
      "cell_type": "code",
      "execution_count": null,
      "metadata": {
        "cellView": "form",
        "execution": {},
        "id": "iZuRPn6zcYyp"
      },
      "outputs": [],
      "source": [
        "# @title Submit your feedback\n",
        "content_review(f\"{feedback_prefix}_Probabilities_vs_utilities_Interactive_Demo_and_Discussion\")"
      ]
    },
    {
      "cell_type": "code",
      "execution_count": null,
      "metadata": {
        "cellView": "form",
        "execution": {},
        "id": "AaTZxZ3rcYyp"
      },
      "outputs": [],
      "source": [
        "# @title Video 10: Bayesian Decisions Demo Discussion\n",
        "from ipywidgets import widgets\n",
        "from IPython.display import YouTubeVideo\n",
        "from IPython.display import IFrame\n",
        "from IPython.display import display\n",
        "\n",
        "\n",
        "class PlayVideo(IFrame):\n",
        "  def __init__(self, id, source, page=1, width=400, height=300, **kwargs):\n",
        "    self.id = id\n",
        "    if source == 'Bilibili':\n",
        "      src = f'https://player.bilibili.com/player.html?bvid={id}&page={page}'\n",
        "    elif source == 'Osf':\n",
        "      src = f'https://mfr.ca-1.osf.io/render?url=https://osf.io/download/{id}/?direct%26mode=render'\n",
        "    super(PlayVideo, self).__init__(src, width, height, **kwargs)\n",
        "\n",
        "\n",
        "def display_videos(video_ids, W=400, H=300, fs=1):\n",
        "  tab_contents = []\n",
        "  for i, video_id in enumerate(video_ids):\n",
        "    out = widgets.Output()\n",
        "    with out:\n",
        "      if video_ids[i][0] == 'Youtube':\n",
        "        video = YouTubeVideo(id=video_ids[i][1], width=W,\n",
        "                             height=H, fs=fs, rel=0)\n",
        "        print(f'Video available at https://youtube.com/watch?v={video.id}')\n",
        "      else:\n",
        "        video = PlayVideo(id=video_ids[i][1], source=video_ids[i][0], width=W,\n",
        "                          height=H, fs=fs, autoplay=False)\n",
        "        if video_ids[i][0] == 'Bilibili':\n",
        "          print(f'Video available at https://www.bilibili.com/video/{video.id}')\n",
        "        elif video_ids[i][0] == 'Osf':\n",
        "          print(f'Video available at https://osf.io/{video.id}')\n",
        "      display(video)\n",
        "    tab_contents.append(out)\n",
        "  return tab_contents\n",
        "\n",
        "\n",
        "video_ids = [('Youtube', 'h9L0EYmUpHs'), ('Bilibili', 'BV1QU4y137BS')]\n",
        "tab_contents = display_videos(video_ids, W=854, H=480)\n",
        "tabs = widgets.Tab()\n",
        "tabs.children = tab_contents\n",
        "for i in range(len(tab_contents)):\n",
        "  tabs.set_title(i, video_ids[i][0])\n",
        "display(tabs)"
      ]
    },
    {
      "cell_type": "code",
      "execution_count": null,
      "metadata": {
        "cellView": "form",
        "execution": {},
        "id": "irypeX6PcYyp"
      },
      "outputs": [],
      "source": [
        "# @title Submit your feedback\n",
        "content_review(f\"{feedback_prefix}_Bayesian_Decisions_Demo_Discussion_Video\")"
      ]
    },
    {
      "cell_type": "markdown",
      "metadata": {
        "execution": {},
        "id": "Y7ouqpxEcYyp"
      },
      "source": [
        "---\n",
        "# Summary\n",
        "\n",
        "*Estimated timing of tutorial: 1 hour, 30 minutes*\n",
        "\n",
        "In this tutorial, you learned about combining prior information with new measurements to update your knowledge using Bayes Rule, in the context of a fishing problem.\n",
        "\n",
        "Specifically, we covered:\n",
        "\n",
        "* That the likelihood is the probability of the measurement given some hidden state\n",
        "\n",
        "* That how the prior and likelihood interact to create the posterior, the probability of the hidden state given a measurement, depends on how they covary\n",
        "\n",
        "* That utility is the gain from each action and state pair, and the expected utility for an action is the sum of the utility for all state pairs, weighted by the probability of that state happening. You can then choose the action with the highest expected utility.\n"
      ]
    },
    {
      "cell_type": "markdown",
      "metadata": {
        "execution": {},
        "id": "aixj2_-NcYyp"
      },
      "source": [
        "---\n",
        "# Bonus"
      ]
    },
    {
      "cell_type": "markdown",
      "metadata": {
        "execution": {},
        "id": "nFMr_VLfcYyp"
      },
      "source": [
        "## Bonus Section 1: Correlation Formula\n",
        "\n",
        "To understand the way we calculate the correlation, we need to review the definition of covariance and correlation.\n",
        "\n",
        "<br>\n",
        "\n",
        "Covariance:\n",
        "\n",
        "\\begin{align}\n",
        "\\text{cov}(X,Y) \\equiv \\sigma_{XY} &= \\mathbb{E} [ (X - \\mathbb{E}[X])(Y - \\mathbb{E}[Y]) ] \\\\\n",
        "&= \\mathbb{E}[ XY - X\\mathbb{E}[Y] - \\mathbb{E}[X]Y + \\mathbb{E}[X]\\mathbb{E}[Y] ] \\\\\n",
        "&= \\mathbb{E}[XY] - \\mathbb{E}[X]\\mathbb{E}[Y] - \\mathbb{E}[X]\\mathbb{E}[Y] + \\mathbb{E}[X]\\mathbb{E}[Y]\\\\\n",
        "&= \\mathbb{E}[XY] - \\mathbb{E}[X]\\mathbb{E}[Y].\n",
        "\\end{align}\n",
        "\n",
        "Correlation:\n",
        "\n",
        "\\begin{equation}\n",
        "\\rho_{XY} = \\frac{\\text{cov}(X,Y)}{\\sqrt{\\text{var}(X)\\text{var}(Y)}} = \\frac{\\sigma_{XY}}{\\sigma_{X}\\sigma_{Y}}\n",
        "\\end{equation}"
      ]
    }
  ],
  "metadata": {
    "colab": {
      "collapsed_sections": [
        "jWmfLbhzBpfz"
      ],
      "name": "W3D1_Tutorial1",
      "provenance": [],
      "toc_visible": true,
      "include_colab_link": true
    },
    "interpreter": {
      "hash": "3e19903e646247cead5404f55ff575624523d45cf244c3f93aaf5fa10367032a"
    },
    "kernel": {
      "display_name": "Python 3",
      "language": "python",
      "name": "python3"
    },
    "kernelspec": {
      "display_name": "Python 3.7.10 64-bit ('nma': conda)",
      "name": "python3"
    },
    "language_info": {
      "codemirror_mode": {
        "name": "ipython",
        "version": 3
      },
      "file_extension": ".py",
      "mimetype": "text/x-python",
      "name": "python",
      "nbconvert_exporter": "python",
      "pygments_lexer": "ipython3",
      "version": "3.9.21"
    },
    "widgets": {
      "application/vnd.jupyter.widget-state+json": {
        "dc4bec5924ba4d7aaf309437eb9816a0": {
          "model_module": "@jupyter-widgets/controls",
          "model_name": "VBoxModel",
          "model_module_version": "1.5.0",
          "state": {
            "_dom_classes": [
              "widget-interact"
            ],
            "_model_module": "@jupyter-widgets/controls",
            "_model_module_version": "1.5.0",
            "_model_name": "VBoxModel",
            "_view_count": null,
            "_view_module": "@jupyter-widgets/controls",
            "_view_module_version": "1.5.0",
            "_view_name": "VBoxView",
            "box_style": "",
            "children": [
              "IPY_MODEL_ca614d6a2e55462486667d7adda01772",
              "IPY_MODEL_7f2d23f0ab7e4a0bb582d0039d81d120"
            ],
            "layout": "IPY_MODEL_39f3711d3616493c9154d5c7ea353939"
          }
        },
        "ca614d6a2e55462486667d7adda01772": {
          "model_module": "@jupyter-widgets/controls",
          "model_name": "FloatSliderModel",
          "model_module_version": "1.5.0",
          "state": {
            "_dom_classes": [],
            "_model_module": "@jupyter-widgets/controls",
            "_model_module_version": "1.5.0",
            "_model_name": "FloatSliderModel",
            "_view_count": null,
            "_view_module": "@jupyter-widgets/controls",
            "_view_module_version": "1.5.0",
            "_view_name": "FloatSliderView",
            "continuous_update": true,
            "description": "p(s = left)",
            "description_tooltip": null,
            "disabled": false,
            "layout": "IPY_MODEL_2f15273ef95448dcab01ab54799b24d8",
            "max": 1,
            "min": 0,
            "orientation": "horizontal",
            "readout": true,
            "readout_format": ".2f",
            "step": 0.01,
            "style": "IPY_MODEL_158a1c5dbf2a46b0a9e66c81e97449fc",
            "value": 0.69
          }
        },
        "7f2d23f0ab7e4a0bb582d0039d81d120": {
          "model_module": "@jupyter-widgets/output",
          "model_name": "OutputModel",
          "model_module_version": "1.0.0",
          "state": {
            "_dom_classes": [],
            "_model_module": "@jupyter-widgets/output",
            "_model_module_version": "1.0.0",
            "_model_name": "OutputModel",
            "_view_count": null,
            "_view_module": "@jupyter-widgets/output",
            "_view_module_version": "1.0.0",
            "_view_name": "OutputView",
            "layout": "IPY_MODEL_181f7960ed964c38a3565c885e0fc44f",
            "msg_id": "",
            "outputs": [
              {
                "output_type": "display_data",
                "data": {
                  "text/plain": "<Figure size 1700x300 with 3 Axes>",
                  "image/png": "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\n"
                },
                "metadata": {
                  "image/png": {
                    "width": 936,
                    "height": 372
                  }
                }
              }
            ]
          }
        },
        "39f3711d3616493c9154d5c7ea353939": {
          "model_module": "@jupyter-widgets/base",
          "model_name": "LayoutModel",
          "model_module_version": "1.2.0",
          "state": {
            "_model_module": "@jupyter-widgets/base",
            "_model_module_version": "1.2.0",
            "_model_name": "LayoutModel",
            "_view_count": null,
            "_view_module": "@jupyter-widgets/base",
            "_view_module_version": "1.2.0",
            "_view_name": "LayoutView",
            "align_content": null,
            "align_items": null,
            "align_self": null,
            "border": null,
            "bottom": null,
            "display": null,
            "flex": null,
            "flex_flow": null,
            "grid_area": null,
            "grid_auto_columns": null,
            "grid_auto_flow": null,
            "grid_auto_rows": null,
            "grid_column": null,
            "grid_gap": null,
            "grid_row": null,
            "grid_template_areas": null,
            "grid_template_columns": null,
            "grid_template_rows": null,
            "height": null,
            "justify_content": null,
            "justify_items": null,
            "left": null,
            "margin": null,
            "max_height": null,
            "max_width": null,
            "min_height": null,
            "min_width": null,
            "object_fit": null,
            "object_position": null,
            "order": null,
            "overflow": null,
            "overflow_x": null,
            "overflow_y": null,
            "padding": null,
            "right": null,
            "top": null,
            "visibility": null,
            "width": null
          }
        },
        "2f15273ef95448dcab01ab54799b24d8": {
          "model_module": "@jupyter-widgets/base",
          "model_name": "LayoutModel",
          "model_module_version": "1.2.0",
          "state": {
            "_model_module": "@jupyter-widgets/base",
            "_model_module_version": "1.2.0",
            "_model_name": "LayoutModel",
            "_view_count": null,
            "_view_module": "@jupyter-widgets/base",
            "_view_module_version": "1.2.0",
            "_view_name": "LayoutView",
            "align_content": null,
            "align_items": null,
            "align_self": null,
            "border": null,
            "bottom": null,
            "display": null,
            "flex": null,
            "flex_flow": null,
            "grid_area": null,
            "grid_auto_columns": null,
            "grid_auto_flow": null,
            "grid_auto_rows": null,
            "grid_column": null,
            "grid_gap": null,
            "grid_row": null,
            "grid_template_areas": null,
            "grid_template_columns": null,
            "grid_template_rows": null,
            "height": null,
            "justify_content": null,
            "justify_items": null,
            "left": null,
            "margin": null,
            "max_height": null,
            "max_width": null,
            "min_height": null,
            "min_width": null,
            "object_fit": null,
            "object_position": null,
            "order": null,
            "overflow": null,
            "overflow_x": null,
            "overflow_y": null,
            "padding": null,
            "right": null,
            "top": null,
            "visibility": null,
            "width": null
          }
        },
        "158a1c5dbf2a46b0a9e66c81e97449fc": {
          "model_module": "@jupyter-widgets/controls",
          "model_name": "SliderStyleModel",
          "model_module_version": "1.5.0",
          "state": {
            "_model_module": "@jupyter-widgets/controls",
            "_model_module_version": "1.5.0",
            "_model_name": "SliderStyleModel",
            "_view_count": null,
            "_view_module": "@jupyter-widgets/base",
            "_view_module_version": "1.2.0",
            "_view_name": "StyleView",
            "description_width": "",
            "handle_color": null
          }
        },
        "181f7960ed964c38a3565c885e0fc44f": {
          "model_module": "@jupyter-widgets/base",
          "model_name": "LayoutModel",
          "model_module_version": "1.2.0",
          "state": {
            "_model_module": "@jupyter-widgets/base",
            "_model_module_version": "1.2.0",
            "_model_name": "LayoutModel",
            "_view_count": null,
            "_view_module": "@jupyter-widgets/base",
            "_view_module_version": "1.2.0",
            "_view_name": "LayoutView",
            "align_content": null,
            "align_items": null,
            "align_self": null,
            "border": null,
            "bottom": null,
            "display": null,
            "flex": null,
            "flex_flow": null,
            "grid_area": null,
            "grid_auto_columns": null,
            "grid_auto_flow": null,
            "grid_auto_rows": null,
            "grid_column": null,
            "grid_gap": null,
            "grid_row": null,
            "grid_template_areas": null,
            "grid_template_columns": null,
            "grid_template_rows": null,
            "height": null,
            "justify_content": null,
            "justify_items": null,
            "left": null,
            "margin": null,
            "max_height": null,
            "max_width": null,
            "min_height": null,
            "min_width": null,
            "object_fit": null,
            "object_position": null,
            "order": null,
            "overflow": null,
            "overflow_x": null,
            "overflow_y": null,
            "padding": null,
            "right": null,
            "top": null,
            "visibility": null,
            "width": null
          }
        },
        "af40bfcda4814b3ba984e6c1a3b863db": {
          "model_module": "@jupyter-widgets/controls",
          "model_name": "VBoxModel",
          "model_module_version": "1.5.0",
          "state": {
            "_dom_classes": [
              "widget-interact"
            ],
            "_model_module": "@jupyter-widgets/controls",
            "_model_module_version": "1.5.0",
            "_model_name": "VBoxModel",
            "_view_count": null,
            "_view_module": "@jupyter-widgets/controls",
            "_view_module_version": "1.5.0",
            "_view_name": "VBoxView",
            "box_style": "",
            "children": [
              "IPY_MODEL_f22a8e1206024504a9fe57500786614f",
              "IPY_MODEL_1ad93fcf3ee74b49b9504fc780311ece",
              "IPY_MODEL_8b1d6363b41c4060b479257236ccfc7b",
              "IPY_MODEL_876eff0881dc4d9a9c4fc7a7933f536b"
            ],
            "layout": "IPY_MODEL_01b1278255c24f54a0fc78c65d40209b"
          }
        },
        "f22a8e1206024504a9fe57500786614f": {
          "model_module": "@jupyter-widgets/controls",
          "model_name": "FloatSliderModel",
          "model_module_version": "1.5.0",
          "state": {
            "_dom_classes": [],
            "_model_module": "@jupyter-widgets/controls",
            "_model_module_version": "1.5.0",
            "_model_name": "FloatSliderModel",
            "_view_count": null,
            "_view_module": "@jupyter-widgets/controls",
            "_view_module_version": "1.5.0",
            "_view_name": "FloatSliderView",
            "continuous_update": true,
            "description": "p(color=golden)",
            "description_tooltip": null,
            "disabled": false,
            "layout": "IPY_MODEL_e2d9976a561e4f93a7db4535f98708ed",
            "max": 0.99,
            "min": 0.01,
            "orientation": "horizontal",
            "readout": true,
            "readout_format": ".2f",
            "step": 0.01,
            "style": "IPY_MODEL_0adc886e348f4875bbb46f3acdffcfde",
            "value": 0.75
          }
        },
        "1ad93fcf3ee74b49b9504fc780311ece": {
          "model_module": "@jupyter-widgets/controls",
          "model_name": "FloatSliderModel",
          "model_module_version": "1.5.0",
          "state": {
            "_dom_classes": [],
            "_model_module": "@jupyter-widgets/controls",
            "_model_module_version": "1.5.0",
            "_model_name": "FloatSliderModel",
            "_view_count": null,
            "_view_module": "@jupyter-widgets/controls",
            "_view_module_version": "1.5.0",
            "_view_name": "FloatSliderView",
            "continuous_update": true,
            "description": "p(size=large)",
            "description_tooltip": null,
            "disabled": false,
            "layout": "IPY_MODEL_eb79ddadcf0d426eb16b1635bdbb11bf",
            "max": 0.99,
            "min": 0.01,
            "orientation": "horizontal",
            "readout": true,
            "readout_format": ".2f",
            "step": 0.01,
            "style": "IPY_MODEL_262e025dfab4468fb1e24a27053f3861",
            "value": 0.24
          }
        },
        "8b1d6363b41c4060b479257236ccfc7b": {
          "model_module": "@jupyter-widgets/controls",
          "model_name": "FloatSliderModel",
          "model_module_version": "1.5.0",
          "state": {
            "_dom_classes": [],
            "_model_module": "@jupyter-widgets/controls",
            "_model_module_version": "1.5.0",
            "_model_name": "FloatSliderModel",
            "_view_count": null,
            "_view_module": "@jupyter-widgets/controls",
            "_view_module_version": "1.5.0",
            "_view_name": "FloatSliderView",
            "continuous_update": true,
            "description": "ρ",
            "description_tooltip": null,
            "disabled": false,
            "layout": "IPY_MODEL_f2d9cbe9470b4490852b1f0a56103715",
            "max": 0.3144428422615251,
            "min": -0.9633285267845751,
            "orientation": "horizontal",
            "readout": true,
            "readout_format": ".2f",
            "step": 0.01,
            "style": "IPY_MODEL_c826d2a62a914e5cb4b41af75aa73658",
            "value": -0.26333
          }
        },
        "876eff0881dc4d9a9c4fc7a7933f536b": {
          "model_module": "@jupyter-widgets/output",
          "model_name": "OutputModel",
          "model_module_version": "1.0.0",
          "state": {
            "_dom_classes": [],
            "_model_module": "@jupyter-widgets/output",
            "_model_module_version": "1.0.0",
            "_model_name": "OutputModel",
            "_view_count": null,
            "_view_module": "@jupyter-widgets/output",
            "_view_module_version": "1.0.0",
            "_view_name": "OutputView",
            "layout": "IPY_MODEL_08c8a2677d0541bfa32925e50943fbd0",
            "msg_id": "",
            "outputs": [
              {
                "output_type": "display_data",
                "data": {
                  "text/plain": "<Figure size 500x500 with 3 Axes>",
                  "image/png": "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\n"
                },
                "metadata": {
                  "image/png": {
                    "width": 553,
                    "height": 502
                  }
                }
              }
            ]
          }
        },
        "01b1278255c24f54a0fc78c65d40209b": {
          "model_module": "@jupyter-widgets/base",
          "model_name": "LayoutModel",
          "model_module_version": "1.2.0",
          "state": {
            "_model_module": "@jupyter-widgets/base",
            "_model_module_version": "1.2.0",
            "_model_name": "LayoutModel",
            "_view_count": null,
            "_view_module": "@jupyter-widgets/base",
            "_view_module_version": "1.2.0",
            "_view_name": "LayoutView",
            "align_content": null,
            "align_items": null,
            "align_self": null,
            "border": null,
            "bottom": null,
            "display": null,
            "flex": null,
            "flex_flow": null,
            "grid_area": null,
            "grid_auto_columns": null,
            "grid_auto_flow": null,
            "grid_auto_rows": null,
            "grid_column": null,
            "grid_gap": null,
            "grid_row": null,
            "grid_template_areas": null,
            "grid_template_columns": null,
            "grid_template_rows": null,
            "height": null,
            "justify_content": null,
            "justify_items": null,
            "left": null,
            "margin": null,
            "max_height": null,
            "max_width": null,
            "min_height": null,
            "min_width": null,
            "object_fit": null,
            "object_position": null,
            "order": null,
            "overflow": null,
            "overflow_x": null,
            "overflow_y": null,
            "padding": null,
            "right": null,
            "top": null,
            "visibility": null,
            "width": null
          }
        },
        "e2d9976a561e4f93a7db4535f98708ed": {
          "model_module": "@jupyter-widgets/base",
          "model_name": "LayoutModel",
          "model_module_version": "1.2.0",
          "state": {
            "_model_module": "@jupyter-widgets/base",
            "_model_module_version": "1.2.0",
            "_model_name": "LayoutModel",
            "_view_count": null,
            "_view_module": "@jupyter-widgets/base",
            "_view_module_version": "1.2.0",
            "_view_name": "LayoutView",
            "align_content": null,
            "align_items": null,
            "align_self": null,
            "border": null,
            "bottom": null,
            "display": null,
            "flex": null,
            "flex_flow": null,
            "grid_area": "widget002",
            "grid_auto_columns": null,
            "grid_auto_flow": null,
            "grid_auto_rows": null,
            "grid_column": null,
            "grid_gap": null,
            "grid_row": null,
            "grid_template_areas": null,
            "grid_template_columns": null,
            "grid_template_rows": null,
            "height": null,
            "justify_content": null,
            "justify_items": null,
            "left": null,
            "margin": null,
            "max_height": null,
            "max_width": null,
            "min_height": null,
            "min_width": null,
            "object_fit": null,
            "object_position": null,
            "order": null,
            "overflow": null,
            "overflow_x": null,
            "overflow_y": null,
            "padding": null,
            "right": null,
            "top": null,
            "visibility": null,
            "width": null
          }
        },
        "0adc886e348f4875bbb46f3acdffcfde": {
          "model_module": "@jupyter-widgets/controls",
          "model_name": "SliderStyleModel",
          "model_module_version": "1.5.0",
          "state": {
            "_model_module": "@jupyter-widgets/controls",
            "_model_module_version": "1.5.0",
            "_model_name": "SliderStyleModel",
            "_view_count": null,
            "_view_module": "@jupyter-widgets/base",
            "_view_module_version": "1.2.0",
            "_view_name": "StyleView",
            "description_width": "initial",
            "handle_color": null
          }
        },
        "eb79ddadcf0d426eb16b1635bdbb11bf": {
          "model_module": "@jupyter-widgets/base",
          "model_name": "LayoutModel",
          "model_module_version": "1.2.0",
          "state": {
            "_model_module": "@jupyter-widgets/base",
            "_model_module_version": "1.2.0",
            "_model_name": "LayoutModel",
            "_view_count": null,
            "_view_module": "@jupyter-widgets/base",
            "_view_module_version": "1.2.0",
            "_view_name": "LayoutView",
            "align_content": null,
            "align_items": null,
            "align_self": null,
            "border": null,
            "bottom": null,
            "display": null,
            "flex": null,
            "flex_flow": null,
            "grid_area": "widget003",
            "grid_auto_columns": null,
            "grid_auto_flow": null,
            "grid_auto_rows": null,
            "grid_column": null,
            "grid_gap": null,
            "grid_row": null,
            "grid_template_areas": null,
            "grid_template_columns": null,
            "grid_template_rows": null,
            "height": null,
            "justify_content": null,
            "justify_items": null,
            "left": null,
            "margin": null,
            "max_height": null,
            "max_width": null,
            "min_height": null,
            "min_width": null,
            "object_fit": null,
            "object_position": null,
            "order": null,
            "overflow": null,
            "overflow_x": null,
            "overflow_y": null,
            "padding": null,
            "right": null,
            "top": null,
            "visibility": null,
            "width": null
          }
        },
        "262e025dfab4468fb1e24a27053f3861": {
          "model_module": "@jupyter-widgets/controls",
          "model_name": "SliderStyleModel",
          "model_module_version": "1.5.0",
          "state": {
            "_model_module": "@jupyter-widgets/controls",
            "_model_module_version": "1.5.0",
            "_model_name": "SliderStyleModel",
            "_view_count": null,
            "_view_module": "@jupyter-widgets/base",
            "_view_module_version": "1.2.0",
            "_view_name": "StyleView",
            "description_width": "initial",
            "handle_color": null
          }
        },
        "f2d9cbe9470b4490852b1f0a56103715": {
          "model_module": "@jupyter-widgets/base",
          "model_name": "LayoutModel",
          "model_module_version": "1.2.0",
          "state": {
            "_model_module": "@jupyter-widgets/base",
            "_model_module_version": "1.2.0",
            "_model_name": "LayoutModel",
            "_view_count": null,
            "_view_module": "@jupyter-widgets/base",
            "_view_module_version": "1.2.0",
            "_view_name": "LayoutView",
            "align_content": null,
            "align_items": null,
            "align_self": null,
            "border": null,
            "bottom": null,
            "display": null,
            "flex": null,
            "flex_flow": null,
            "grid_area": "widget001",
            "grid_auto_columns": null,
            "grid_auto_flow": null,
            "grid_auto_rows": null,
            "grid_column": null,
            "grid_gap": null,
            "grid_row": null,
            "grid_template_areas": null,
            "grid_template_columns": null,
            "grid_template_rows": null,
            "height": null,
            "justify_content": null,
            "justify_items": null,
            "left": null,
            "margin": null,
            "max_height": null,
            "max_width": null,
            "min_height": null,
            "min_width": null,
            "object_fit": null,
            "object_position": null,
            "order": null,
            "overflow": null,
            "overflow_x": null,
            "overflow_y": null,
            "padding": null,
            "right": null,
            "top": null,
            "visibility": null,
            "width": null
          }
        },
        "c826d2a62a914e5cb4b41af75aa73658": {
          "model_module": "@jupyter-widgets/controls",
          "model_name": "SliderStyleModel",
          "model_module_version": "1.5.0",
          "state": {
            "_model_module": "@jupyter-widgets/controls",
            "_model_module_version": "1.5.0",
            "_model_name": "SliderStyleModel",
            "_view_count": null,
            "_view_module": "@jupyter-widgets/base",
            "_view_module_version": "1.2.0",
            "_view_name": "StyleView",
            "description_width": "",
            "handle_color": null
          }
        },
        "08c8a2677d0541bfa32925e50943fbd0": {
          "model_module": "@jupyter-widgets/base",
          "model_name": "LayoutModel",
          "model_module_version": "1.2.0",
          "state": {
            "_model_module": "@jupyter-widgets/base",
            "_model_module_version": "1.2.0",
            "_model_name": "LayoutModel",
            "_view_count": null,
            "_view_module": "@jupyter-widgets/base",
            "_view_module_version": "1.2.0",
            "_view_name": "LayoutView",
            "align_content": null,
            "align_items": null,
            "align_self": null,
            "border": null,
            "bottom": null,
            "display": null,
            "flex": null,
            "flex_flow": null,
            "grid_area": null,
            "grid_auto_columns": null,
            "grid_auto_flow": null,
            "grid_auto_rows": null,
            "grid_column": null,
            "grid_gap": null,
            "grid_row": null,
            "grid_template_areas": null,
            "grid_template_columns": null,
            "grid_template_rows": null,
            "height": null,
            "justify_content": null,
            "justify_items": null,
            "left": null,
            "margin": null,
            "max_height": null,
            "max_width": null,
            "min_height": null,
            "min_width": null,
            "object_fit": null,
            "object_position": null,
            "order": null,
            "overflow": null,
            "overflow_x": null,
            "overflow_y": null,
            "padding": null,
            "right": null,
            "top": null,
            "visibility": null,
            "width": null
          }
        },
        "aabe616cd4e24dc8ad11a62414ef8e0b": {
          "model_module": "@jupyter-widgets/controls",
          "model_name": "VBoxModel",
          "model_module_version": "1.5.0",
          "state": {
            "_dom_classes": [],
            "_model_module": "@jupyter-widgets/controls",
            "_model_module_version": "1.5.0",
            "_model_name": "VBoxModel",
            "_view_count": null,
            "_view_module": "@jupyter-widgets/controls",
            "_view_module_version": "1.5.0",
            "_view_name": "VBoxView",
            "box_style": "",
            "children": [
              "IPY_MODEL_73881ba14b944683ab53a01e1474effd",
              "IPY_MODEL_44def43c74194daa915f1e049e2853d0",
              "IPY_MODEL_8cbbc8987b2947f0959a15103aa800f2"
            ],
            "layout": "IPY_MODEL_aa2940f174e4463a97e2768f81116d45"
          }
        },
        "73881ba14b944683ab53a01e1474effd": {
          "model_module": "@jupyter-widgets/controls",
          "model_name": "FloatSliderModel",
          "model_module_version": "1.5.0",
          "state": {
            "_dom_classes": [],
            "_model_module": "@jupyter-widgets/controls",
            "_model_module_version": "1.5.0",
            "_model_name": "FloatSliderModel",
            "_view_count": null,
            "_view_module": "@jupyter-widgets/controls",
            "_view_module_version": "1.5.0",
            "_view_name": "FloatSliderView",
            "continuous_update": true,
            "description": "p(s = left)",
            "description_tooltip": null,
            "disabled": false,
            "layout": "IPY_MODEL_8b5578b4de0245029eafca9e3574ec97",
            "max": 0.99,
            "min": 0.01,
            "orientation": "horizontal",
            "readout": true,
            "readout_format": ".2f",
            "step": 0.01,
            "style": "IPY_MODEL_6a92a66dbb90498c82aee1982a0590be",
            "value": 0.3
          }
        },
        "44def43c74194daa915f1e049e2853d0": {
          "model_module": "@jupyter-widgets/controls",
          "model_name": "HBoxModel",
          "model_module_version": "1.5.0",
          "state": {
            "_dom_classes": [],
            "_model_module": "@jupyter-widgets/controls",
            "_model_module_version": "1.5.0",
            "_model_name": "HBoxModel",
            "_view_count": null,
            "_view_module": "@jupyter-widgets/controls",
            "_view_module_version": "1.5.0",
            "_view_name": "HBoxView",
            "box_style": "",
            "children": [
              "IPY_MODEL_960ebaf294d44d58ba85b67dd8af22ce",
              "IPY_MODEL_fd6a72a4cfe443b6b257546012b4100f"
            ],
            "layout": "IPY_MODEL_bce1263031a44291ac40d30af3de14f1"
          }
        },
        "8cbbc8987b2947f0959a15103aa800f2": {
          "model_module": "@jupyter-widgets/controls",
          "model_name": "ToggleButtonsModel",
          "model_module_version": "1.5.0",
          "state": {
            "_dom_classes": [],
            "_model_module": "@jupyter-widgets/controls",
            "_model_module_version": "1.5.0",
            "_model_name": "ToggleButtonsModel",
            "_options_labels": [
              "Fish",
              "No Fish"
            ],
            "_view_count": null,
            "_view_module": "@jupyter-widgets/controls",
            "_view_module_version": "1.5.0",
            "_view_name": "ToggleButtonsView",
            "button_style": "",
            "description": "Observation (m) on the left:",
            "description_tooltip": null,
            "disabled": false,
            "icons": [],
            "index": 0,
            "layout": "IPY_MODEL_d61c4833dad64b66a23cfbcf6fa72008",
            "style": "IPY_MODEL_9a541c7d4d04417583f6c690de20193d",
            "tooltips": []
          }
        },
        "aa2940f174e4463a97e2768f81116d45": {
          "model_module": "@jupyter-widgets/base",
          "model_name": "LayoutModel",
          "model_module_version": "1.2.0",
          "state": {
            "_model_module": "@jupyter-widgets/base",
            "_model_module_version": "1.2.0",
            "_model_name": "LayoutModel",
            "_view_count": null,
            "_view_module": "@jupyter-widgets/base",
            "_view_module_version": "1.2.0",
            "_view_name": "LayoutView",
            "align_content": null,
            "align_items": null,
            "align_self": null,
            "border": null,
            "bottom": null,
            "display": null,
            "flex": null,
            "flex_flow": null,
            "grid_area": null,
            "grid_auto_columns": null,
            "grid_auto_flow": null,
            "grid_auto_rows": null,
            "grid_column": null,
            "grid_gap": null,
            "grid_row": null,
            "grid_template_areas": null,
            "grid_template_columns": null,
            "grid_template_rows": null,
            "height": null,
            "justify_content": null,
            "justify_items": null,
            "left": null,
            "margin": null,
            "max_height": null,
            "max_width": null,
            "min_height": null,
            "min_width": null,
            "object_fit": null,
            "object_position": null,
            "order": null,
            "overflow": null,
            "overflow_x": null,
            "overflow_y": null,
            "padding": null,
            "right": null,
            "top": null,
            "visibility": null,
            "width": null
          }
        },
        "8b5578b4de0245029eafca9e3574ec97": {
          "model_module": "@jupyter-widgets/base",
          "model_name": "LayoutModel",
          "model_module_version": "1.2.0",
          "state": {
            "_model_module": "@jupyter-widgets/base",
            "_model_module_version": "1.2.0",
            "_model_name": "LayoutModel",
            "_view_count": null,
            "_view_module": "@jupyter-widgets/base",
            "_view_module_version": "1.2.0",
            "_view_name": "LayoutView",
            "align_content": null,
            "align_items": null,
            "align_self": null,
            "border": null,
            "bottom": null,
            "display": null,
            "flex": null,
            "flex_flow": null,
            "grid_area": null,
            "grid_auto_columns": null,
            "grid_auto_flow": null,
            "grid_auto_rows": null,
            "grid_column": null,
            "grid_gap": null,
            "grid_row": null,
            "grid_template_areas": null,
            "grid_template_columns": null,
            "grid_template_rows": null,
            "height": null,
            "justify_content": null,
            "justify_items": null,
            "left": null,
            "margin": null,
            "max_height": null,
            "max_width": null,
            "min_height": null,
            "min_width": null,
            "object_fit": null,
            "object_position": null,
            "order": null,
            "overflow": null,
            "overflow_x": null,
            "overflow_y": null,
            "padding": null,
            "right": null,
            "top": null,
            "visibility": null,
            "width": null
          }
        },
        "6a92a66dbb90498c82aee1982a0590be": {
          "model_module": "@jupyter-widgets/controls",
          "model_name": "SliderStyleModel",
          "model_module_version": "1.5.0",
          "state": {
            "_model_module": "@jupyter-widgets/controls",
            "_model_module_version": "1.5.0",
            "_model_name": "SliderStyleModel",
            "_view_count": null,
            "_view_module": "@jupyter-widgets/base",
            "_view_module_version": "1.2.0",
            "_view_name": "StyleView",
            "description_width": "",
            "handle_color": null
          }
        },
        "960ebaf294d44d58ba85b67dd8af22ce": {
          "model_module": "@jupyter-widgets/controls",
          "model_name": "FloatSliderModel",
          "model_module_version": "1.5.0",
          "state": {
            "_dom_classes": [],
            "_model_module": "@jupyter-widgets/controls",
            "_model_module_version": "1.5.0",
            "_model_name": "FloatSliderModel",
            "_view_count": null,
            "_view_module": "@jupyter-widgets/controls",
            "_view_module_version": "1.5.0",
            "_view_name": "FloatSliderView",
            "continuous_update": true,
            "description": "p(fish on left | state = left)",
            "description_tooltip": null,
            "disabled": false,
            "layout": "IPY_MODEL_9aca695781d34fad9d5ff39c526fad17",
            "max": 0.99,
            "min": 0.01,
            "orientation": "horizontal",
            "readout": true,
            "readout_format": ".2f",
            "step": 0.01,
            "style": "IPY_MODEL_d97042c70ddc411abf0859cd4936cc56",
            "value": 0.5
          }
        },
        "fd6a72a4cfe443b6b257546012b4100f": {
          "model_module": "@jupyter-widgets/controls",
          "model_name": "FloatSliderModel",
          "model_module_version": "1.5.0",
          "state": {
            "_dom_classes": [],
            "_model_module": "@jupyter-widgets/controls",
            "_model_module_version": "1.5.0",
            "_model_name": "FloatSliderModel",
            "_view_count": null,
            "_view_module": "@jupyter-widgets/controls",
            "_view_module_version": "1.5.0",
            "_view_name": "FloatSliderView",
            "continuous_update": true,
            "description": "p(fish on left | state = right)",
            "description_tooltip": null,
            "disabled": false,
            "layout": "IPY_MODEL_d2ee83a0d8464f3a8daeaac523f08c9a",
            "max": 0.99,
            "min": 0.01,
            "orientation": "horizontal",
            "readout": true,
            "readout_format": ".2f",
            "step": 0.01,
            "style": "IPY_MODEL_c8ed3f9bb39045a2a21d6e1ec6d14ae2",
            "value": 0.1
          }
        },
        "bce1263031a44291ac40d30af3de14f1": {
          "model_module": "@jupyter-widgets/base",
          "model_name": "LayoutModel",
          "model_module_version": "1.2.0",
          "state": {
            "_model_module": "@jupyter-widgets/base",
            "_model_module_version": "1.2.0",
            "_model_name": "LayoutModel",
            "_view_count": null,
            "_view_module": "@jupyter-widgets/base",
            "_view_module_version": "1.2.0",
            "_view_name": "LayoutView",
            "align_content": null,
            "align_items": null,
            "align_self": null,
            "border": null,
            "bottom": null,
            "display": null,
            "flex": null,
            "flex_flow": null,
            "grid_area": null,
            "grid_auto_columns": null,
            "grid_auto_flow": null,
            "grid_auto_rows": null,
            "grid_column": null,
            "grid_gap": null,
            "grid_row": null,
            "grid_template_areas": null,
            "grid_template_columns": null,
            "grid_template_rows": null,
            "height": null,
            "justify_content": null,
            "justify_items": null,
            "left": null,
            "margin": null,
            "max_height": null,
            "max_width": null,
            "min_height": null,
            "min_width": null,
            "object_fit": null,
            "object_position": null,
            "order": null,
            "overflow": null,
            "overflow_x": null,
            "overflow_y": null,
            "padding": null,
            "right": null,
            "top": null,
            "visibility": null,
            "width": null
          }
        },
        "d61c4833dad64b66a23cfbcf6fa72008": {
          "model_module": "@jupyter-widgets/base",
          "model_name": "LayoutModel",
          "model_module_version": "1.2.0",
          "state": {
            "_model_module": "@jupyter-widgets/base",
            "_model_module_version": "1.2.0",
            "_model_name": "LayoutModel",
            "_view_count": null,
            "_view_module": "@jupyter-widgets/base",
            "_view_module_version": "1.2.0",
            "_view_name": "LayoutView",
            "align_content": null,
            "align_items": null,
            "align_self": null,
            "border": null,
            "bottom": null,
            "display": "flex",
            "flex": null,
            "flex_flow": null,
            "grid_area": null,
            "grid_auto_columns": null,
            "grid_auto_flow": null,
            "grid_auto_rows": null,
            "grid_column": null,
            "grid_gap": null,
            "grid_row": null,
            "grid_template_areas": null,
            "grid_template_columns": null,
            "grid_template_rows": null,
            "height": null,
            "justify_content": null,
            "justify_items": null,
            "left": null,
            "margin": null,
            "max_height": null,
            "max_width": null,
            "min_height": null,
            "min_width": null,
            "object_fit": null,
            "object_position": null,
            "order": null,
            "overflow": null,
            "overflow_x": null,
            "overflow_y": null,
            "padding": null,
            "right": null,
            "top": null,
            "visibility": null,
            "width": "auto"
          }
        },
        "9a541c7d4d04417583f6c690de20193d": {
          "model_module": "@jupyter-widgets/controls",
          "model_name": "ToggleButtonsStyleModel",
          "model_module_version": "1.5.0",
          "state": {
            "_model_module": "@jupyter-widgets/controls",
            "_model_module_version": "1.5.0",
            "_model_name": "ToggleButtonsStyleModel",
            "_view_count": null,
            "_view_module": "@jupyter-widgets/base",
            "_view_module_version": "1.2.0",
            "_view_name": "StyleView",
            "button_width": "",
            "description_width": "initial",
            "font_weight": ""
          }
        },
        "9aca695781d34fad9d5ff39c526fad17": {
          "model_module": "@jupyter-widgets/base",
          "model_name": "LayoutModel",
          "model_module_version": "1.2.0",
          "state": {
            "_model_module": "@jupyter-widgets/base",
            "_model_module_version": "1.2.0",
            "_model_name": "LayoutModel",
            "_view_count": null,
            "_view_module": "@jupyter-widgets/base",
            "_view_module_version": "1.2.0",
            "_view_name": "LayoutView",
            "align_content": null,
            "align_items": null,
            "align_self": null,
            "border": null,
            "bottom": null,
            "display": null,
            "flex": null,
            "flex_flow": null,
            "grid_area": null,
            "grid_auto_columns": null,
            "grid_auto_flow": null,
            "grid_auto_rows": null,
            "grid_column": null,
            "grid_gap": null,
            "grid_row": null,
            "grid_template_areas": null,
            "grid_template_columns": null,
            "grid_template_rows": null,
            "height": null,
            "justify_content": null,
            "justify_items": null,
            "left": null,
            "margin": null,
            "max_height": null,
            "max_width": null,
            "min_height": null,
            "min_width": null,
            "object_fit": null,
            "object_position": null,
            "order": null,
            "overflow": null,
            "overflow_x": null,
            "overflow_y": null,
            "padding": null,
            "right": null,
            "top": null,
            "visibility": null,
            "width": "370px"
          }
        },
        "d97042c70ddc411abf0859cd4936cc56": {
          "model_module": "@jupyter-widgets/controls",
          "model_name": "SliderStyleModel",
          "model_module_version": "1.5.0",
          "state": {
            "_model_module": "@jupyter-widgets/controls",
            "_model_module_version": "1.5.0",
            "_model_name": "SliderStyleModel",
            "_view_count": null,
            "_view_module": "@jupyter-widgets/base",
            "_view_module_version": "1.2.0",
            "_view_name": "StyleView",
            "description_width": "initial",
            "handle_color": null
          }
        },
        "d2ee83a0d8464f3a8daeaac523f08c9a": {
          "model_module": "@jupyter-widgets/base",
          "model_name": "LayoutModel",
          "model_module_version": "1.2.0",
          "state": {
            "_model_module": "@jupyter-widgets/base",
            "_model_module_version": "1.2.0",
            "_model_name": "LayoutModel",
            "_view_count": null,
            "_view_module": "@jupyter-widgets/base",
            "_view_module_version": "1.2.0",
            "_view_name": "LayoutView",
            "align_content": null,
            "align_items": null,
            "align_self": null,
            "border": null,
            "bottom": null,
            "display": null,
            "flex": null,
            "flex_flow": null,
            "grid_area": null,
            "grid_auto_columns": null,
            "grid_auto_flow": null,
            "grid_auto_rows": null,
            "grid_column": null,
            "grid_gap": null,
            "grid_row": null,
            "grid_template_areas": null,
            "grid_template_columns": null,
            "grid_template_rows": null,
            "height": null,
            "justify_content": null,
            "justify_items": null,
            "left": null,
            "margin": null,
            "max_height": null,
            "max_width": null,
            "min_height": null,
            "min_width": null,
            "object_fit": null,
            "object_position": null,
            "order": null,
            "overflow": null,
            "overflow_x": null,
            "overflow_y": null,
            "padding": null,
            "right": null,
            "top": null,
            "visibility": null,
            "width": "370px"
          }
        },
        "c8ed3f9bb39045a2a21d6e1ec6d14ae2": {
          "model_module": "@jupyter-widgets/controls",
          "model_name": "SliderStyleModel",
          "model_module_version": "1.5.0",
          "state": {
            "_model_module": "@jupyter-widgets/controls",
            "_model_module_version": "1.5.0",
            "_model_name": "SliderStyleModel",
            "_view_count": null,
            "_view_module": "@jupyter-widgets/base",
            "_view_module_version": "1.2.0",
            "_view_name": "StyleView",
            "description_width": "initial",
            "handle_color": null
          }
        },
        "d775a1d3734b408cbf6aa761e7a58318": {
          "model_module": "@jupyter-widgets/output",
          "model_name": "OutputModel",
          "model_module_version": "1.0.0",
          "state": {
            "_dom_classes": [],
            "_model_module": "@jupyter-widgets/output",
            "_model_module_version": "1.0.0",
            "_model_name": "OutputModel",
            "_view_count": null,
            "_view_module": "@jupyter-widgets/output",
            "_view_module_version": "1.0.0",
            "_view_name": "OutputView",
            "layout": "IPY_MODEL_c7e262dbe1a2404cb618f6224f1d1416",
            "msg_id": "",
            "outputs": [
              {
                "output_type": "display_data",
                "data": {
                  "text/plain": "<Figure size 1200x400 with 3 Axes>",
                  "image/png": "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\n"
                },
                "metadata": {
                  "image/png": {
                    "width": 1064,
                    "height": 462
                  }
                }
              }
            ]
          }
        },
        "c7e262dbe1a2404cb618f6224f1d1416": {
          "model_module": "@jupyter-widgets/base",
          "model_name": "LayoutModel",
          "model_module_version": "1.2.0",
          "state": {
            "_model_module": "@jupyter-widgets/base",
            "_model_module_version": "1.2.0",
            "_model_name": "LayoutModel",
            "_view_count": null,
            "_view_module": "@jupyter-widgets/base",
            "_view_module_version": "1.2.0",
            "_view_name": "LayoutView",
            "align_content": null,
            "align_items": null,
            "align_self": null,
            "border": null,
            "bottom": null,
            "display": null,
            "flex": null,
            "flex_flow": null,
            "grid_area": null,
            "grid_auto_columns": null,
            "grid_auto_flow": null,
            "grid_auto_rows": null,
            "grid_column": null,
            "grid_gap": null,
            "grid_row": null,
            "grid_template_areas": null,
            "grid_template_columns": null,
            "grid_template_rows": null,
            "height": null,
            "justify_content": null,
            "justify_items": null,
            "left": null,
            "margin": null,
            "max_height": null,
            "max_width": null,
            "min_height": null,
            "min_width": null,
            "object_fit": null,
            "object_position": null,
            "order": null,
            "overflow": null,
            "overflow_x": null,
            "overflow_y": null,
            "padding": null,
            "right": null,
            "top": null,
            "visibility": null,
            "width": null
          }
        }
      }
    }
  },
  "nbformat": 4,
  "nbformat_minor": 0
}